{
 "cells": [
  {
   "cell_type": "markdown",
   "id": "9790463e",
   "metadata": {},
   "source": [
    "# LOADING DATA SET"
   ]
  },
  {
   "cell_type": "code",
   "execution_count": 2,
   "id": "40988a03",
   "metadata": {},
   "outputs": [
    {
     "name": "stdout",
     "output_type": "stream",
     "text": [
      "Requirement already satisfied: pandas in c:\\users\\dell\\anaconda3\\lib\\site-packages (2.0.3)\n",
      "Requirement already satisfied: python-dateutil>=2.8.2 in c:\\users\\dell\\anaconda3\\lib\\site-packages (from pandas) (2.8.2)\n",
      "Requirement already satisfied: pytz>=2020.1 in c:\\users\\dell\\anaconda3\\lib\\site-packages (from pandas) (2023.3.post1)\n",
      "Requirement already satisfied: tzdata>=2022.1 in c:\\users\\dell\\anaconda3\\lib\\site-packages (from pandas) (2023.3)\n",
      "Requirement already satisfied: numpy>=1.21.0 in c:\\users\\dell\\anaconda3\\lib\\site-packages (from pandas) (1.24.3)\n",
      "Requirement already satisfied: six>=1.5 in c:\\users\\dell\\anaconda3\\lib\\site-packages (from python-dateutil>=2.8.2->pandas) (1.16.0)\n"
     ]
    },
    {
     "data": {
      "text/html": [
       "<div>\n",
       "<style scoped>\n",
       "    .dataframe tbody tr th:only-of-type {\n",
       "        vertical-align: middle;\n",
       "    }\n",
       "\n",
       "    .dataframe tbody tr th {\n",
       "        vertical-align: top;\n",
       "    }\n",
       "\n",
       "    .dataframe thead th {\n",
       "        text-align: right;\n",
       "    }\n",
       "</style>\n",
       "<table border=\"1\" class=\"dataframe\">\n",
       "  <thead>\n",
       "    <tr style=\"text-align: right;\">\n",
       "      <th></th>\n",
       "      <th>Issue_id</th>\n",
       "      <th>Priority</th>\n",
       "      <th>Component</th>\n",
       "      <th>Duplicated_issue</th>\n",
       "      <th>Title</th>\n",
       "      <th>Description</th>\n",
       "      <th>Status</th>\n",
       "      <th>Resolution</th>\n",
       "      <th>Version</th>\n",
       "      <th>Created_time</th>\n",
       "      <th>Resolved_time</th>\n",
       "    </tr>\n",
       "  </thead>\n",
       "  <tbody>\n",
       "    <tr>\n",
       "      <th>0</th>\n",
       "      <td>1518</td>\n",
       "      <td>P1</td>\n",
       "      <td>Debug</td>\n",
       "      <td>NaN</td>\n",
       "      <td>Icons needed for actions (1GI5UXW)</td>\n",
       "      <td>JGS (8/8/01 5:20:19 PM); \\tWe need enabled; di...</td>\n",
       "      <td>VERIFIED</td>\n",
       "      <td>FIXED</td>\n",
       "      <td>2.0</td>\n",
       "      <td>2001-10-10 22:14:00 -0400</td>\n",
       "      <td>2001-10-18 11:51:14 -0400</td>\n",
       "    </tr>\n",
       "    <tr>\n",
       "      <th>1</th>\n",
       "      <td>1519</td>\n",
       "      <td>P3</td>\n",
       "      <td>Debug</td>\n",
       "      <td>NaN</td>\n",
       "      <td>README: Hit count not reset (1GET20Y)</td>\n",
       "      <td>JGS (6/4/01 11:43:47 AM); \\tSet a breakpoint i...</td>\n",
       "      <td>RESOLVED</td>\n",
       "      <td>WORKSFORME</td>\n",
       "      <td>2.0</td>\n",
       "      <td>2001-10-10 22:14:00 -0400</td>\n",
       "      <td>2001-11-28 13:42:46 -0500</td>\n",
       "    </tr>\n",
       "    <tr>\n",
       "      <th>2</th>\n",
       "      <td>1520</td>\n",
       "      <td>P3</td>\n",
       "      <td>Debug</td>\n",
       "      <td>NaN</td>\n",
       "      <td>Use styled text in console (1G9S1YF)</td>\n",
       "      <td>DW (2/26/01 5:56:36 PM); \\tCould allow users t...</td>\n",
       "      <td>CLOSED</td>\n",
       "      <td>WONTFIX</td>\n",
       "      <td>2.0</td>\n",
       "      <td>2001-10-10 22:14:00 -0400</td>\n",
       "      <td>2002-06-26 11:32:05 -0400</td>\n",
       "    </tr>\n",
       "    <tr>\n",
       "      <th>3</th>\n",
       "      <td>1521</td>\n",
       "      <td>P3</td>\n",
       "      <td>Debug</td>\n",
       "      <td>NaN</td>\n",
       "      <td>StringBuffer representation (1GE3BFA)</td>\n",
       "      <td>JGS (5/21/01 2:09:10 PM); \\tTo be consistent; ...</td>\n",
       "      <td>VERIFIED</td>\n",
       "      <td>FIXED</td>\n",
       "      <td>2.0</td>\n",
       "      <td>2001-10-10 22:14:00 -0400</td>\n",
       "      <td>2002-02-05 10:37:09 -0500</td>\n",
       "    </tr>\n",
       "    <tr>\n",
       "      <th>4</th>\n",
       "      <td>1522</td>\n",
       "      <td>P2</td>\n",
       "      <td>Debug</td>\n",
       "      <td>1663.0</td>\n",
       "      <td>Feature: use #toString to display variable val...</td>\n",
       "      <td>DW (9/27/00 11:12:31 AM); \\tCurrently; the typ...</td>\n",
       "      <td>RESOLVED</td>\n",
       "      <td>DUPLICATE</td>\n",
       "      <td>2.0</td>\n",
       "      <td>2001-10-10 22:14:00 -0400</td>\n",
       "      <td>2001-10-17 10:17:47 -0400</td>\n",
       "    </tr>\n",
       "    <tr>\n",
       "      <th>5</th>\n",
       "      <td>1523</td>\n",
       "      <td>P3</td>\n",
       "      <td>Debug</td>\n",
       "      <td>1555.0</td>\n",
       "      <td>Breakpoint in an invalid location (1G4F8P8)</td>\n",
       "      <td>DS (11/14/00 2:59:11 PM); \\tYou can set a brea...</td>\n",
       "      <td>RESOLVED</td>\n",
       "      <td>DUPLICATE</td>\n",
       "      <td>2.0</td>\n",
       "      <td>2001-10-10 22:14:00 -0400</td>\n",
       "      <td>2002-09-10 17:00:45 -0400</td>\n",
       "    </tr>\n",
       "    <tr>\n",
       "      <th>6</th>\n",
       "      <td>1524</td>\n",
       "      <td>P2</td>\n",
       "      <td>Debug</td>\n",
       "      <td>NaN</td>\n",
       "      <td>Feature: Displaying Instruction pointer (1G3A7CG)</td>\n",
       "      <td>DW (10/23/00 11:08:55 AM); \\tWe currently show...</td>\n",
       "      <td>VERIFIED</td>\n",
       "      <td>FIXED</td>\n",
       "      <td>2.0</td>\n",
       "      <td>2001-10-10 22:14:00 -0400</td>\n",
       "      <td>2002-11-22 09:33:05 -0500</td>\n",
       "    </tr>\n",
       "    <tr>\n",
       "      <th>7</th>\n",
       "      <td>1525</td>\n",
       "      <td>P2</td>\n",
       "      <td>Debug</td>\n",
       "      <td>NaN</td>\n",
       "      <td>Feature: Locks and Monitors (1G3A7ZH)</td>\n",
       "      <td>DW (10/23/00 11:22:46 AM); \\tSupport to show w...</td>\n",
       "      <td>VERIFIED</td>\n",
       "      <td>FIXED</td>\n",
       "      <td>2.0</td>\n",
       "      <td>2001-10-10 22:14:00 -0400</td>\n",
       "      <td>2002-09-30 12:24:15 -0400</td>\n",
       "    </tr>\n",
       "    <tr>\n",
       "      <th>8</th>\n",
       "      <td>1526</td>\n",
       "      <td>P3</td>\n",
       "      <td>Debug</td>\n",
       "      <td>1633.0</td>\n",
       "      <td>Snippet evaluation should support imports (1G4...</td>\n",
       "      <td>I want to write code like this in a snippet fi...</td>\n",
       "      <td>RESOLVED</td>\n",
       "      <td>DUPLICATE</td>\n",
       "      <td>2.0</td>\n",
       "      <td>2001-10-10 22:14:00 -0400</td>\n",
       "      <td>2002-03-18 15:23:50 -0500</td>\n",
       "    </tr>\n",
       "    <tr>\n",
       "      <th>9</th>\n",
       "      <td>1527</td>\n",
       "      <td>P3</td>\n",
       "      <td>Debug</td>\n",
       "      <td>NaN</td>\n",
       "      <td>[scrapbook] Snippet editor color snippet outpu...</td>\n",
       "      <td>Coloring the snippet output in java style resu...</td>\n",
       "      <td>RESOLVED</td>\n",
       "      <td>WONTFIX</td>\n",
       "      <td>2.0</td>\n",
       "      <td>2001-10-10 22:14:00 -0400</td>\n",
       "      <td>2009-08-30 02:22:18 -0400</td>\n",
       "    </tr>\n",
       "    <tr>\n",
       "      <th>10</th>\n",
       "      <td>1528</td>\n",
       "      <td>P3</td>\n",
       "      <td>Debug</td>\n",
       "      <td>NaN</td>\n",
       "      <td>snippets: can start SWT program twice (1G47CME)</td>\n",
       "      <td>Can start the following snippet two times with...</td>\n",
       "      <td>RESOLVED</td>\n",
       "      <td>WONTFIX</td>\n",
       "      <td>2.0</td>\n",
       "      <td>2001-10-10 22:14:00 -0400</td>\n",
       "      <td>2002-02-26 14:19:30 -0500</td>\n",
       "    </tr>\n",
       "    <tr>\n",
       "      <th>11</th>\n",
       "      <td>1529</td>\n",
       "      <td>P3</td>\n",
       "      <td>Debug</td>\n",
       "      <td>NaN</td>\n",
       "      <td>On exit; should allow user to continue executi...</td>\n",
       "      <td>jkca (11/10/2000 5:21:39 PM); \\tThe user shoul...</td>\n",
       "      <td>RESOLVED</td>\n",
       "      <td>WONTFIX</td>\n",
       "      <td>2.0</td>\n",
       "      <td>2001-10-10 22:14:00 -0400</td>\n",
       "      <td>2003-05-06 22:35:44 -0400</td>\n",
       "    </tr>\n",
       "    <tr>\n",
       "      <th>12</th>\n",
       "      <td>1530</td>\n",
       "      <td>P3</td>\n",
       "      <td>Debug</td>\n",
       "      <td>NaN</td>\n",
       "      <td>UI - Inconsistent GUI behavior in Breakpoints ...</td>\n",
       "      <td>DM (11/13/00 11:56:46 AM); \\tThe normal behavi...</td>\n",
       "      <td>CLOSED</td>\n",
       "      <td>WONTFIX</td>\n",
       "      <td>2.0</td>\n",
       "      <td>2001-10-10 22:14:00 -0400</td>\n",
       "      <td>2009-08-30 02:18:21 -0400</td>\n",
       "    </tr>\n",
       "    <tr>\n",
       "      <th>13</th>\n",
       "      <td>1531</td>\n",
       "      <td>P1</td>\n",
       "      <td>Debug</td>\n",
       "      <td>NaN</td>\n",
       "      <td>Feature: navigate from console output to resou...</td>\n",
       "      <td>EG (1/24/01 9:46:25 AM); \\tOpen on Selection s...</td>\n",
       "      <td>VERIFIED</td>\n",
       "      <td>FIXED</td>\n",
       "      <td>2.0</td>\n",
       "      <td>2001-10-10 22:14:00 -0400</td>\n",
       "      <td>2001-10-18 11:09:09 -0400</td>\n",
       "    </tr>\n",
       "    <tr>\n",
       "      <th>14</th>\n",
       "      <td>1532</td>\n",
       "      <td>P2</td>\n",
       "      <td>Debug</td>\n",
       "      <td>NaN</td>\n",
       "      <td>UI - Right click Run button (1G5T50T)</td>\n",
       "      <td>DW (12/11/00 1:39:04 PM); \\tWe should contribu...</td>\n",
       "      <td>VERIFIED</td>\n",
       "      <td>FIXED</td>\n",
       "      <td>2.0</td>\n",
       "      <td>2001-10-10 22:14:00 -0400</td>\n",
       "      <td>2001-12-13 18:52:25 -0500</td>\n",
       "    </tr>\n",
       "    <tr>\n",
       "      <th>15</th>\n",
       "      <td>1534</td>\n",
       "      <td>P4</td>\n",
       "      <td>Debug</td>\n",
       "      <td>NaN</td>\n",
       "      <td>[variables] snapshot and compare</td>\n",
       "      <td>JGS (12/11/00 2:39:52 PM); \\tFor involved debu...</td>\n",
       "      <td>CLOSED</td>\n",
       "      <td>WONTFIX</td>\n",
       "      <td>2.0</td>\n",
       "      <td>2001-10-10 22:14:00 -0400</td>\n",
       "      <td>2009-08-30 02:14:35 -0400</td>\n",
       "    </tr>\n",
       "    <tr>\n",
       "      <th>16</th>\n",
       "      <td>1535</td>\n",
       "      <td>P4</td>\n",
       "      <td>Debug</td>\n",
       "      <td>NaN</td>\n",
       "      <td>DCR: support debug on demand (1G71C81)</td>\n",
       "      <td>EG (1/4/01 3:34:24 PM); \\tJDI supports debug o...</td>\n",
       "      <td>CLOSED</td>\n",
       "      <td>WONTFIX</td>\n",
       "      <td>2.0</td>\n",
       "      <td>2001-10-10 22:14:00 -0400</td>\n",
       "      <td>2009-08-30 02:18:51 -0400</td>\n",
       "    </tr>\n",
       "    <tr>\n",
       "      <th>17</th>\n",
       "      <td>1536</td>\n",
       "      <td>P3</td>\n",
       "      <td>Debug</td>\n",
       "      <td>16036.0</td>\n",
       "      <td>Performance: Optimizations to handle really bi...</td>\n",
       "      <td>DS (1/11/2001 1:41:08 PM); \\tThe debugger grid...</td>\n",
       "      <td>RESOLVED</td>\n",
       "      <td>DUPLICATE</td>\n",
       "      <td>2.0</td>\n",
       "      <td>2001-10-10 22:14:00 -0400</td>\n",
       "      <td>2002-06-25 14:37:10 -0400</td>\n",
       "    </tr>\n",
       "    <tr>\n",
       "      <th>18</th>\n",
       "      <td>1537</td>\n",
       "      <td>P3</td>\n",
       "      <td>Debug</td>\n",
       "      <td>NaN</td>\n",
       "      <td>classFilePattern breakpoint attribute optimiza...</td>\n",
       "      <td>jkca (7/24/2001 4:40:29 PM); \\tWhile working o...</td>\n",
       "      <td>VERIFIED</td>\n",
       "      <td>FIXED</td>\n",
       "      <td>2.0</td>\n",
       "      <td>2001-10-10 22:15:00 -0400</td>\n",
       "      <td>2001-10-17 10:30:32 -0400</td>\n",
       "    </tr>\n",
       "    <tr>\n",
       "      <th>19</th>\n",
       "      <td>1538</td>\n",
       "      <td>P3</td>\n",
       "      <td>Debug</td>\n",
       "      <td>1605.0</td>\n",
       "      <td>Watch List - expressions and adding in advance...</td>\n",
       "      <td>DW (1/26/01 4:05:15 PM); \\tSuggestion from JJ ...</td>\n",
       "      <td>RESOLVED</td>\n",
       "      <td>DUPLICATE</td>\n",
       "      <td>2.0</td>\n",
       "      <td>2001-10-10 22:15:00 -0400</td>\n",
       "      <td>2002-01-15 12:29:33 -0500</td>\n",
       "    </tr>\n",
       "  </tbody>\n",
       "</table>\n",
       "</div>"
      ],
      "text/plain": [
       "    Issue_id Priority Component  Duplicated_issue  \\\n",
       "0       1518       P1     Debug               NaN   \n",
       "1       1519       P3     Debug               NaN   \n",
       "2       1520       P3     Debug               NaN   \n",
       "3       1521       P3     Debug               NaN   \n",
       "4       1522       P2     Debug            1663.0   \n",
       "5       1523       P3     Debug            1555.0   \n",
       "6       1524       P2     Debug               NaN   \n",
       "7       1525       P2     Debug               NaN   \n",
       "8       1526       P3     Debug            1633.0   \n",
       "9       1527       P3     Debug               NaN   \n",
       "10      1528       P3     Debug               NaN   \n",
       "11      1529       P3     Debug               NaN   \n",
       "12      1530       P3     Debug               NaN   \n",
       "13      1531       P1     Debug               NaN   \n",
       "14      1532       P2     Debug               NaN   \n",
       "15      1534       P4     Debug               NaN   \n",
       "16      1535       P4     Debug               NaN   \n",
       "17      1536       P3     Debug           16036.0   \n",
       "18      1537       P3     Debug               NaN   \n",
       "19      1538       P3     Debug            1605.0   \n",
       "\n",
       "                                                Title  \\\n",
       "0                  Icons needed for actions (1GI5UXW)   \n",
       "1               README: Hit count not reset (1GET20Y)   \n",
       "2                Use styled text in console (1G9S1YF)   \n",
       "3               StringBuffer representation (1GE3BFA)   \n",
       "4   Feature: use #toString to display variable val...   \n",
       "5         Breakpoint in an invalid location (1G4F8P8)   \n",
       "6   Feature: Displaying Instruction pointer (1G3A7CG)   \n",
       "7               Feature: Locks and Monitors (1G3A7ZH)   \n",
       "8   Snippet evaluation should support imports (1G4...   \n",
       "9   [scrapbook] Snippet editor color snippet outpu...   \n",
       "10    snippets: can start SWT program twice (1G47CME)   \n",
       "11  On exit; should allow user to continue executi...   \n",
       "12  UI - Inconsistent GUI behavior in Breakpoints ...   \n",
       "13  Feature: navigate from console output to resou...   \n",
       "14              UI - Right click Run button (1G5T50T)   \n",
       "15                   [variables] snapshot and compare   \n",
       "16             DCR: support debug on demand (1G71C81)   \n",
       "17  Performance: Optimizations to handle really bi...   \n",
       "18  classFilePattern breakpoint attribute optimiza...   \n",
       "19  Watch List - expressions and adding in advance...   \n",
       "\n",
       "                                          Description    Status  Resolution  \\\n",
       "0   JGS (8/8/01 5:20:19 PM); \\tWe need enabled; di...  VERIFIED       FIXED   \n",
       "1   JGS (6/4/01 11:43:47 AM); \\tSet a breakpoint i...  RESOLVED  WORKSFORME   \n",
       "2   DW (2/26/01 5:56:36 PM); \\tCould allow users t...    CLOSED     WONTFIX   \n",
       "3   JGS (5/21/01 2:09:10 PM); \\tTo be consistent; ...  VERIFIED       FIXED   \n",
       "4   DW (9/27/00 11:12:31 AM); \\tCurrently; the typ...  RESOLVED   DUPLICATE   \n",
       "5   DS (11/14/00 2:59:11 PM); \\tYou can set a brea...  RESOLVED   DUPLICATE   \n",
       "6   DW (10/23/00 11:08:55 AM); \\tWe currently show...  VERIFIED       FIXED   \n",
       "7   DW (10/23/00 11:22:46 AM); \\tSupport to show w...  VERIFIED       FIXED   \n",
       "8   I want to write code like this in a snippet fi...  RESOLVED   DUPLICATE   \n",
       "9   Coloring the snippet output in java style resu...  RESOLVED     WONTFIX   \n",
       "10  Can start the following snippet two times with...  RESOLVED     WONTFIX   \n",
       "11  jkca (11/10/2000 5:21:39 PM); \\tThe user shoul...  RESOLVED     WONTFIX   \n",
       "12  DM (11/13/00 11:56:46 AM); \\tThe normal behavi...    CLOSED     WONTFIX   \n",
       "13  EG (1/24/01 9:46:25 AM); \\tOpen on Selection s...  VERIFIED       FIXED   \n",
       "14  DW (12/11/00 1:39:04 PM); \\tWe should contribu...  VERIFIED       FIXED   \n",
       "15  JGS (12/11/00 2:39:52 PM); \\tFor involved debu...    CLOSED     WONTFIX   \n",
       "16  EG (1/4/01 3:34:24 PM); \\tJDI supports debug o...    CLOSED     WONTFIX   \n",
       "17  DS (1/11/2001 1:41:08 PM); \\tThe debugger grid...  RESOLVED   DUPLICATE   \n",
       "18  jkca (7/24/2001 4:40:29 PM); \\tWhile working o...  VERIFIED       FIXED   \n",
       "19  DW (1/26/01 4:05:15 PM); \\tSuggestion from JJ ...  RESOLVED   DUPLICATE   \n",
       "\n",
       "   Version               Created_time              Resolved_time  \n",
       "0      2.0  2001-10-10 22:14:00 -0400  2001-10-18 11:51:14 -0400  \n",
       "1      2.0  2001-10-10 22:14:00 -0400  2001-11-28 13:42:46 -0500  \n",
       "2      2.0  2001-10-10 22:14:00 -0400  2002-06-26 11:32:05 -0400  \n",
       "3      2.0  2001-10-10 22:14:00 -0400  2002-02-05 10:37:09 -0500  \n",
       "4      2.0  2001-10-10 22:14:00 -0400  2001-10-17 10:17:47 -0400  \n",
       "5      2.0  2001-10-10 22:14:00 -0400  2002-09-10 17:00:45 -0400  \n",
       "6      2.0  2001-10-10 22:14:00 -0400  2002-11-22 09:33:05 -0500  \n",
       "7      2.0  2001-10-10 22:14:00 -0400  2002-09-30 12:24:15 -0400  \n",
       "8      2.0  2001-10-10 22:14:00 -0400  2002-03-18 15:23:50 -0500  \n",
       "9      2.0  2001-10-10 22:14:00 -0400  2009-08-30 02:22:18 -0400  \n",
       "10     2.0  2001-10-10 22:14:00 -0400  2002-02-26 14:19:30 -0500  \n",
       "11     2.0  2001-10-10 22:14:00 -0400  2003-05-06 22:35:44 -0400  \n",
       "12     2.0  2001-10-10 22:14:00 -0400  2009-08-30 02:18:21 -0400  \n",
       "13     2.0  2001-10-10 22:14:00 -0400  2001-10-18 11:09:09 -0400  \n",
       "14     2.0  2001-10-10 22:14:00 -0400  2001-12-13 18:52:25 -0500  \n",
       "15     2.0  2001-10-10 22:14:00 -0400  2009-08-30 02:14:35 -0400  \n",
       "16     2.0  2001-10-10 22:14:00 -0400  2009-08-30 02:18:51 -0400  \n",
       "17     2.0  2001-10-10 22:14:00 -0400  2002-06-25 14:37:10 -0400  \n",
       "18     2.0  2001-10-10 22:15:00 -0400  2001-10-17 10:30:32 -0400  \n",
       "19     2.0  2001-10-10 22:15:00 -0400  2002-01-15 12:29:33 -0500  "
      ]
     },
     "execution_count": 2,
     "metadata": {},
     "output_type": "execute_result"
    }
   ],
   "source": [
    "# Loading data set using pandas.\n",
    "!pip install pandas\n",
    "\n",
    "import pandas as pd\n",
    "\n",
    "file= \"C:/Users/DELL/Desktop/TextBasedAnalysis/eclipse_jdt (1).csv\"\n",
    "df = pd.read_csv(file)\n",
    "df.head(20)"
   ]
  },
  {
   "cell_type": "markdown",
   "id": "4c7ee308",
   "metadata": {},
   "source": [
    "# REMOVING DUPLICATES"
   ]
  },
  {
   "cell_type": "code",
   "execution_count": 3,
   "id": "5f659245",
   "metadata": {},
   "outputs": [
    {
     "data": {
      "text/html": [
       "<div>\n",
       "<style scoped>\n",
       "    .dataframe tbody tr th:only-of-type {\n",
       "        vertical-align: middle;\n",
       "    }\n",
       "\n",
       "    .dataframe tbody tr th {\n",
       "        vertical-align: top;\n",
       "    }\n",
       "\n",
       "    .dataframe thead th {\n",
       "        text-align: right;\n",
       "    }\n",
       "</style>\n",
       "<table border=\"1\" class=\"dataframe\">\n",
       "  <thead>\n",
       "    <tr style=\"text-align: right;\">\n",
       "      <th></th>\n",
       "      <th>Issue_id</th>\n",
       "      <th>Priority</th>\n",
       "      <th>Component</th>\n",
       "      <th>Title</th>\n",
       "      <th>Description</th>\n",
       "      <th>Status</th>\n",
       "      <th>Resolution</th>\n",
       "      <th>Version</th>\n",
       "      <th>Created_time</th>\n",
       "      <th>Resolved_time</th>\n",
       "    </tr>\n",
       "  </thead>\n",
       "  <tbody>\n",
       "    <tr>\n",
       "      <th>0</th>\n",
       "      <td>1518</td>\n",
       "      <td>P1</td>\n",
       "      <td>Debug</td>\n",
       "      <td>Icons needed for actions (1GI5UXW)</td>\n",
       "      <td>JGS (8/8/01 5:20:19 PM); \\tWe need enabled; di...</td>\n",
       "      <td>VERIFIED</td>\n",
       "      <td>FIXED</td>\n",
       "      <td>2.0</td>\n",
       "      <td>2001-10-10 22:14:00 -0400</td>\n",
       "      <td>2001-10-18 11:51:14 -0400</td>\n",
       "    </tr>\n",
       "    <tr>\n",
       "      <th>1</th>\n",
       "      <td>1519</td>\n",
       "      <td>P3</td>\n",
       "      <td>Debug</td>\n",
       "      <td>README: Hit count not reset (1GET20Y)</td>\n",
       "      <td>JGS (6/4/01 11:43:47 AM); \\tSet a breakpoint i...</td>\n",
       "      <td>RESOLVED</td>\n",
       "      <td>WORKSFORME</td>\n",
       "      <td>2.0</td>\n",
       "      <td>2001-10-10 22:14:00 -0400</td>\n",
       "      <td>2001-11-28 13:42:46 -0500</td>\n",
       "    </tr>\n",
       "    <tr>\n",
       "      <th>2</th>\n",
       "      <td>1520</td>\n",
       "      <td>P3</td>\n",
       "      <td>Debug</td>\n",
       "      <td>Use styled text in console (1G9S1YF)</td>\n",
       "      <td>DW (2/26/01 5:56:36 PM); \\tCould allow users t...</td>\n",
       "      <td>CLOSED</td>\n",
       "      <td>WONTFIX</td>\n",
       "      <td>2.0</td>\n",
       "      <td>2001-10-10 22:14:00 -0400</td>\n",
       "      <td>2002-06-26 11:32:05 -0400</td>\n",
       "    </tr>\n",
       "    <tr>\n",
       "      <th>3</th>\n",
       "      <td>1521</td>\n",
       "      <td>P3</td>\n",
       "      <td>Debug</td>\n",
       "      <td>StringBuffer representation (1GE3BFA)</td>\n",
       "      <td>JGS (5/21/01 2:09:10 PM); \\tTo be consistent; ...</td>\n",
       "      <td>VERIFIED</td>\n",
       "      <td>FIXED</td>\n",
       "      <td>2.0</td>\n",
       "      <td>2001-10-10 22:14:00 -0400</td>\n",
       "      <td>2002-02-05 10:37:09 -0500</td>\n",
       "    </tr>\n",
       "    <tr>\n",
       "      <th>4</th>\n",
       "      <td>1522</td>\n",
       "      <td>P2</td>\n",
       "      <td>Debug</td>\n",
       "      <td>Feature: use #toString to display variable val...</td>\n",
       "      <td>DW (9/27/00 11:12:31 AM); \\tCurrently; the typ...</td>\n",
       "      <td>RESOLVED</td>\n",
       "      <td>DUPLICATE</td>\n",
       "      <td>2.0</td>\n",
       "      <td>2001-10-10 22:14:00 -0400</td>\n",
       "      <td>2001-10-17 10:17:47 -0400</td>\n",
       "    </tr>\n",
       "  </tbody>\n",
       "</table>\n",
       "</div>"
      ],
      "text/plain": [
       "   Issue_id Priority Component  \\\n",
       "0      1518       P1     Debug   \n",
       "1      1519       P3     Debug   \n",
       "2      1520       P3     Debug   \n",
       "3      1521       P3     Debug   \n",
       "4      1522       P2     Debug   \n",
       "\n",
       "                                               Title  \\\n",
       "0                 Icons needed for actions (1GI5UXW)   \n",
       "1              README: Hit count not reset (1GET20Y)   \n",
       "2               Use styled text in console (1G9S1YF)   \n",
       "3              StringBuffer representation (1GE3BFA)   \n",
       "4  Feature: use #toString to display variable val...   \n",
       "\n",
       "                                         Description    Status  Resolution  \\\n",
       "0  JGS (8/8/01 5:20:19 PM); \\tWe need enabled; di...  VERIFIED       FIXED   \n",
       "1  JGS (6/4/01 11:43:47 AM); \\tSet a breakpoint i...  RESOLVED  WORKSFORME   \n",
       "2  DW (2/26/01 5:56:36 PM); \\tCould allow users t...    CLOSED     WONTFIX   \n",
       "3  JGS (5/21/01 2:09:10 PM); \\tTo be consistent; ...  VERIFIED       FIXED   \n",
       "4  DW (9/27/00 11:12:31 AM); \\tCurrently; the typ...  RESOLVED   DUPLICATE   \n",
       "\n",
       "  Version               Created_time              Resolved_time  \n",
       "0     2.0  2001-10-10 22:14:00 -0400  2001-10-18 11:51:14 -0400  \n",
       "1     2.0  2001-10-10 22:14:00 -0400  2001-11-28 13:42:46 -0500  \n",
       "2     2.0  2001-10-10 22:14:00 -0400  2002-06-26 11:32:05 -0400  \n",
       "3     2.0  2001-10-10 22:14:00 -0400  2002-02-05 10:37:09 -0500  \n",
       "4     2.0  2001-10-10 22:14:00 -0400  2001-10-17 10:17:47 -0400  "
      ]
     },
     "execution_count": 3,
     "metadata": {},
     "output_type": "execute_result"
    }
   ],
   "source": [
    "df = df.drop(columns=['Duplicated_issue'])\n",
    "# Print head\n",
    "df.head()"
   ]
  },
  {
   "cell_type": "markdown",
   "id": "7b6b19a1",
   "metadata": {},
   "source": [
    "# PLOTTING PRIORITY FIELD"
   ]
  },
  {
   "cell_type": "code",
   "execution_count": 4,
   "id": "3c793411",
   "metadata": {},
   "outputs": [
    {
     "data": {
      "text/plain": [
       "<Axes: xlabel='Priority'>"
      ]
     },
     "execution_count": 4,
     "metadata": {},
     "output_type": "execute_result"
    },
    {
     "data": {
      "image/png": "[encoded data removed]",
      "text/plain": [
       "<Figure size 640x480 with 1 Axes>"
      ]
     },
     "metadata": {},
     "output_type": "display_data"
    }
   ],
   "source": [
    "df['Priority'].value_counts().sort_index().plot(kind='bar')"
   ]
  },
  {
   "cell_type": "markdown",
   "id": "627270f1",
   "metadata": {},
   "source": [
    "# PLOTTING COMPONENT FIELD"
   ]
  },
  {
   "cell_type": "code",
   "execution_count": 5,
   "id": "4eb29caf",
   "metadata": {},
   "outputs": [
    {
     "data": {
      "text/plain": [
       "<Axes: xlabel='Component'>"
      ]
     },
     "execution_count": 5,
     "metadata": {},
     "output_type": "execute_result"
    },
    {
     "data": {
      "image/png": "[encoded data removed]",
      "text/plain": [
       "<Figure size 640x480 with 1 Axes>"
      ]
     },
     "metadata": {},
     "output_type": "display_data"
    }
   ],
   "source": [
    "df['Component'].value_counts().sort_index().plot(kind='bar')"
   ]
  },
  {
   "cell_type": "markdown",
   "id": "83eb5992",
   "metadata": {},
   "source": [
    "# TEXT CLASIFICATION"
   ]
  },
  {
   "cell_type": "markdown",
   "id": "aa8411bc",
   "metadata": {},
   "source": [
    "# FUNCTION TO REMOVE ODD WORDS"
   ]
  },
  {
   "cell_type": "code",
   "execution_count": 6,
   "id": "01bd19d2",
   "metadata": {},
   "outputs": [
    {
     "name": "stdout",
     "output_type": "stream",
     "text": [
      "Hello world ! Link Extra spaces here.\n"
     ]
    }
   ],
   "source": [
    "import html\n",
    "import re\n",
    "\n",
    "def clean(text):\n",
    "    # Convert HTML escapes like & to characters.\n",
    "    text = html.unescape(text) \n",
    "    # Remove HTML tags.\n",
    "    text = re.sub(r'<[^<>]*>', ' ', text)\n",
    "    # Remove Markdown URLs like [Some text](https://....).\n",
    "    text = re.sub(r'\\[([^\\[\\]]*)\\]\\([^\\(\\)]*\\)', r'\\1', text)\n",
    "    # Remove text or code in brackets like [0].\n",
    "    text = re.sub(r'\\[[^\\[\\]]*\\]', ' ', text)\n",
    "    # Remove standalone sequences of specials.\n",
    "    text = re.sub(r'(?:^|\\s)[<>{}\\[\\]+|\\\\:-]{1,}(?:\\s|$)', ' ', text)\n",
    "    # Remove standalone sequences of hyphens like --- or ==.\n",
    "    text = re.sub(r'(?:^|\\s)[\\-=\\+]{2,}(?:\\s|$)', ' ', text)\n",
    "    # Remove sequences of white spaces.\n",
    "    text = re.sub(r'\\s+', ' ', text)\n",
    "    return text.strip()\n",
    "\n",
    "# Example usage:\n",
    "input_text = \"<p>Hello <b>world</b>!</p> [Link](https://example.com) [0] --- === \\n\\nExtra    spaces  here.\"\n",
    "output_text = clean(input_text)\n",
    "print(output_text)\n"
   ]
  },
  {
   "cell_type": "markdown",
   "id": "66f8cdcd",
   "metadata": {},
   "source": [
    "# DATA CLEANING"
   ]
  },
  {
   "cell_type": "code",
   "execution_count": 7,
   "id": "7734dd61",
   "metadata": {},
   "outputs": [
    {
     "data": {
      "text/html": [
       "<div>\n",
       "<style scoped>\n",
       "    .dataframe tbody tr th:only-of-type {\n",
       "        vertical-align: middle;\n",
       "    }\n",
       "\n",
       "    .dataframe tbody tr th {\n",
       "        vertical-align: top;\n",
       "    }\n",
       "\n",
       "    .dataframe thead th {\n",
       "        text-align: right;\n",
       "    }\n",
       "</style>\n",
       "<table border=\"1\" class=\"dataframe\">\n",
       "  <thead>\n",
       "    <tr style=\"text-align: right;\">\n",
       "      <th></th>\n",
       "      <th>Priority</th>\n",
       "      <th>text</th>\n",
       "    </tr>\n",
       "  </thead>\n",
       "  <tbody>\n",
       "    <tr>\n",
       "      <th>31221</th>\n",
       "      <td>P3</td>\n",
       "      <td>When selecting a Java 1.4 compiler; switch to ...</td>\n",
       "    </tr>\n",
       "    <tr>\n",
       "      <th>29130</th>\n",
       "      <td>P3</td>\n",
       "      <td>one cant navigate into an interface method wit...</td>\n",
       "    </tr>\n",
       "  </tbody>\n",
       "</table>\n",
       "</div>"
      ],
      "text/plain": [
       "      Priority                                               text\n",
       "31221       P3  When selecting a Java 1.4 compiler; switch to ...\n",
       "29130       P3  one cant navigate into an interface method wit..."
      ]
     },
     "execution_count": 7,
     "metadata": {},
     "output_type": "execute_result"
    }
   ],
   "source": [
    "import html\n",
    "import re\n",
    "\n",
    "def clean(text):\n",
    "    # convert html escapes like & to characters.\n",
    "    text = html.unescape(text) \n",
    "    # tags like \n",
    "    text = re.sub(r'<[^<>]*>', ' ', text)\n",
    "    # markdown URLs like [Some text](https://....)\n",
    "    text = re.sub(r'\\[([^\\[\\]]*)\\]\\([^\\(\\)]*\\)', r'\\1', text)\n",
    "    # text or code in brackets like [0]\n",
    "    text = re.sub(r'\\[[^\\[\\]]*\\]', ' ', text)\n",
    "    # standalone sequences of specials, matches  but not #cool\n",
    "    text = re.sub(r'(?:^|\\s)[<>{}\\[\\]+|\\\\:-]{1,}(?:\\s|$)', ' ', text)\n",
    "    # standalone sequences of hyphens like --- or ==\n",
    "    text = re.sub(r'(?:^|\\s)[\\-=\\+]{2,}(?:\\s|$)', ' ', text)\n",
    "    # sequences of white spaces\n",
    "    text = re.sub(r'\\s+', ' ', text)\n",
    "    return text.strip()\n",
    "\n",
    "# Selecting relevant columns and dropping NaN values\n",
    "df = df[['Title','Description','Priority']]\n",
    "df = df.dropna()\n",
    "\n",
    "# Concatenating 'Title' and 'Description' into 'text' column\n",
    "df['text'] = df['Title'] + ' ' + df['Description']\n",
    "\n",
    "# Dropping 'Title' and 'Description' columns\n",
    "df = df.drop(columns=['Title','Description']) \n",
    "\n",
    "# Applying clean function to 'text' column and filtering out short texts\n",
    "df['text'] = df['text'].apply(clean)\n",
    "df = df[df['text'].str.len() > 50]\n",
    "\n",
    "# Displaying a random sample of 2 rows\n",
    "df.sample(2)"
   ]
  },
  {
   "cell_type": "markdown",
   "id": "99ed314e",
   "metadata": {},
   "source": [
    "# TRAIN-TEST SPLIT"
   ]
  },
  {
   "cell_type": "code",
   "execution_count": 8,
   "id": "555e0d54",
   "metadata": {},
   "outputs": [
    {
     "name": "stdout",
     "output_type": "stream",
     "text": [
      "Size of Training Data  36040\n",
      "Size of Test Data  9011\n"
     ]
    }
   ],
   "source": [
    "# Importing the train_test_split function from the sklearn.model_selection module\n",
    "from sklearn.model_selection import train_test_split\n",
    "\n",
    "# Splitting the 'text' column (features) and the 'Priority' column (target) into training and test sets\n",
    "# The test set size is set to 20% of the original dataset\n",
    "# The random_state parameter ensures reproducibility of the split\n",
    "# The stratify parameter ensures that the distribution of classes in the original dataset is preserved in the train/test split\n",
    "X_train, X_test, Y_train, Y_test = train_test_split(df['text'],\n",
    "                                                    df['Priority'],\n",
    "                                                    test_size=0.2,\n",
    "                                                    random_state=42,\n",
    "                                                    stratify=df['Priority'])\n",
    "\n",
    "# Printing the size of the training and test datasets\n",
    "print('Size of Training Data ', X_train.shape[0])\n",
    "print('Size of Test Data ', X_test.shape[0])"
   ]
  },
  {
   "cell_type": "markdown",
   "id": "51328c7f",
   "metadata": {},
   "source": [
    "# TRAINING THE MODEL"
   ]
  },
  {
   "cell_type": "markdown",
   "id": "7e9379e5",
   "metadata": {},
   "source": [
    "# CONVERT X_TRAIN TO NUMBERS"
   ]
  },
  {
   "cell_type": "code",
   "execution_count": 9,
   "id": "6a663a1d",
   "metadata": {},
   "outputs": [
    {
     "name": "stdout",
     "output_type": "stream",
     "text": [
      "Shape of TF-IDF matrix for training data: (36040, 37998)\n",
      "Shape of TF-IDF matrix for test data: (9011, 37998)\n"
     ]
    }
   ],
   "source": [
    "# Importing necessary modules\n",
    "from sklearn.feature_extraction.text import TfidfVectorizer\n",
    "from sklearn.svm import SVC\n",
    "\n",
    "# Initializing a TfidfVectorizer object with specified parameters\n",
    "# min_df = 10 specifies that the term must appear in at least 10 documents to be considered\n",
    "# ngram_range=(1,2) specifies that both unigrams and bigrams will be considered as features\n",
    "# stop_words=\"english\" specifies that common English stop words will be removed during tokenization\n",
    "tfidf = TfidfVectorizer(min_df=10, ngram_range=(1, 2), stop_words=\"english\")\n",
    "\n",
    "# Transforming the training data (X_train) into a TF-IDF representation\n",
    "X_train_tf = tfidf.fit_transform(X_train)\n",
    "\n",
    "# Transforming the test data (X_test) into a TF-IDF representation using the same vocabulary as the training data\n",
    "X_test_tf = tfidf.transform(X_test)\n",
    "\n",
    "print(\"Shape of TF-IDF matrix for training data:\", X_train_tf.shape)\n",
    "print(\"Shape of TF-IDF matrix for test data:\", X_test_tf.shape)"
   ]
  },
  {
   "cell_type": "markdown",
   "id": "39a5408a",
   "metadata": {},
   "source": [
    "# BUILDING A MODEL"
   ]
  },
  {
   "cell_type": "code",
   "execution_count": 10,
   "id": "105258b2",
   "metadata": {},
   "outputs": [
    {
     "data": {
      "text/html": [
       "<style>#sk-container-id-1 {color: black;}#sk-container-id-1 pre{padding: 0;}#sk-container-id-1 div.sk-toggleable {background-color: white;}#sk-container-id-1 label.sk-toggleable__label {cursor: pointer;display: block;width: 100%;margin-bottom: 0;padding: 0.3em;box-sizing: border-box;text-align: center;}#sk-container-id-1 label.sk-toggleable__label-arrow:before {content: \"▸\";float: left;margin-right: 0.25em;color: #696969;}#sk-container-id-1 label.sk-toggleable__label-arrow:hover:before {color: black;}#sk-container-id-1 div.sk-estimator:hover label.sk-toggleable__label-arrow:before {color: black;}#sk-container-id-1 div.sk-toggleable__content {max-height: 0;max-width: 0;overflow: hidden;text-align: left;background-color: #f0f8ff;}#sk-container-id-1 div.sk-toggleable__content pre {margin: 0.2em;color: black;border-radius: 0.25em;background-color: #f0f8ff;}#sk-container-id-1 input.sk-toggleable__control:checked~div.sk-toggleable__content {max-height: 200px;max-width: 100%;overflow: auto;}#sk-container-id-1 input.sk-toggleable__control:checked~label.sk-toggleable__label-arrow:before {content: \"▾\";}#sk-container-id-1 div.sk-estimator input.sk-toggleable__control:checked~label.sk-toggleable__label {background-color: #d4ebff;}#sk-container-id-1 div.sk-label input.sk-toggleable__control:checked~label.sk-toggleable__label {background-color: #d4ebff;}#sk-container-id-1 input.sk-hidden--visually {border: 0;clip: rect(1px 1px 1px 1px);clip: rect(1px, 1px, 1px, 1px);height: 1px;margin: -1px;overflow: hidden;padding: 0;position: absolute;width: 1px;}#sk-container-id-1 div.sk-estimator {font-family: monospace;background-color: #f0f8ff;border: 1px dotted black;border-radius: 0.25em;box-sizing: border-box;margin-bottom: 0.5em;}#sk-container-id-1 div.sk-estimator:hover {background-color: #d4ebff;}#sk-container-id-1 div.sk-parallel-item::after {content: \"\";width: 100%;border-bottom: 1px solid gray;flex-grow: 1;}#sk-container-id-1 div.sk-label:hover label.sk-toggleable__label {background-color: #d4ebff;}#sk-container-id-1 div.sk-serial::before {content: \"\";position: absolute;border-left: 1px solid gray;box-sizing: border-box;top: 0;bottom: 0;left: 50%;z-index: 0;}#sk-container-id-1 div.sk-serial {display: flex;flex-direction: column;align-items: center;background-color: white;padding-right: 0.2em;padding-left: 0.2em;position: relative;}#sk-container-id-1 div.sk-item {position: relative;z-index: 1;}#sk-container-id-1 div.sk-parallel {display: flex;align-items: stretch;justify-content: center;background-color: white;position: relative;}#sk-container-id-1 div.sk-item::before, #sk-container-id-1 div.sk-parallel-item::before {content: \"\";position: absolute;border-left: 1px solid gray;box-sizing: border-box;top: 0;bottom: 0;left: 50%;z-index: -1;}#sk-container-id-1 div.sk-parallel-item {display: flex;flex-direction: column;z-index: 1;position: relative;background-color: white;}#sk-container-id-1 div.sk-parallel-item:first-child::after {align-self: flex-end;width: 50%;}#sk-container-id-1 div.sk-parallel-item:last-child::after {align-self: flex-start;width: 50%;}#sk-container-id-1 div.sk-parallel-item:only-child::after {width: 0;}#sk-container-id-1 div.sk-dashed-wrapped {border: 1px dashed gray;margin: 0 0.4em 0.5em 0.4em;box-sizing: border-box;padding-bottom: 0.4em;background-color: white;}#sk-container-id-1 div.sk-label label {font-family: monospace;font-weight: bold;display: inline-block;line-height: 1.2em;}#sk-container-id-1 div.sk-label-container {text-align: center;}#sk-container-id-1 div.sk-container {/* jupyter's `normalize.less` sets `[hidden] { display: none; }` but bootstrap.min.css set `[hidden] { display: none !important; }` so we also need the `!important` here to be able to override the default hidden behavior on the sphinx rendered scikit-learn.org. See: https://github.com/scikit-learn/scikit-learn/issues/21755 */display: inline-block !important;position: relative;}#sk-container-id-1 div.sk-text-repr-fallback {display: none;}</style><div id=\"sk-container-id-1\" class=\"sk-top-container\"><div class=\"sk-text-repr-fallback\"><pre>LinearSVC(dual=True, random_state=0, tol=1e-05)</pre><b>In a Jupyter environment, please rerun this cell to show the HTML representation or trust the notebook. <br />On GitHub, the HTML representation is unable to render, please try loading this page with nbviewer.org.</b></div><div class=\"sk-container\" hidden><div class=\"sk-item\"><div class=\"sk-estimator sk-toggleable\"><input class=\"sk-toggleable__control sk-hidden--visually\" id=\"sk-estimator-id-1\" type=\"checkbox\" checked><label for=\"sk-estimator-id-1\" class=\"sk-toggleable__label sk-toggleable__label-arrow\">LinearSVC</label><div class=\"sk-toggleable__content\"><pre>LinearSVC(dual=True, random_state=0, tol=1e-05)</pre></div></div></div></div></div>"
      ],
      "text/plain": [
       "LinearSVC(dual=True, random_state=0, tol=1e-05)"
      ]
     },
     "execution_count": 10,
     "metadata": {},
     "output_type": "execute_result"
    }
   ],
   "source": [
    "# Importing the LinearSVC class from the sklearn.svm module\n",
    "from sklearn.svm import LinearSVC\n",
    "\n",
    "# Initializing a LinearSVC model object with specified parameters\n",
    "# random_state=0 ensures reproducibility of results\n",
    "# tol=1e-5 specifies the tolerance for stopping criteria\n",
    "model1 = LinearSVC(random_state=0, tol=1e-5, dual=True)\n",
    "\n",
    "# Training the LinearSVC model on the TF-IDF transformed training data and corresponding target labels\n",
    "model1.fit(X_train_tf, Y_train)"
   ]
  },
  {
   "cell_type": "markdown",
   "id": "134b5f83",
   "metadata": {},
   "source": [
    "# TESTING THE MODEL"
   ]
  },
  {
   "cell_type": "markdown",
   "id": "9cbacc71",
   "metadata": {},
   "source": [
    "# ACCURACY OF THE MODEL"
   ]
  },
  {
   "cell_type": "code",
   "execution_count": 11,
   "id": "96bb163b",
   "metadata": {},
   "outputs": [
    {
     "name": "stdout",
     "output_type": "stream",
     "text": [
      "Accuracy Score - 0.8761513705471091\n"
     ]
    }
   ],
   "source": [
    "# Importing the accuracy_score function from sklearn.metrics module\n",
    "from sklearn.metrics import accuracy_score\n",
    "\n",
    "# Making predictions on the test data using the trained model\n",
    "Y_pred = model1.predict(X_test_tf)\n",
    "\n",
    "# Calculating the accuracy score by comparing the predicted labels (Y_pred) with the actual labels (Y_test)\n",
    "accuracy = accuracy_score(Y_test, Y_pred)\n",
    "\n",
    "# Printing the accuracy score\n",
    "print('Accuracy Score -', accuracy)"
   ]
  },
  {
   "cell_type": "markdown",
   "id": "2e302a76",
   "metadata": {},
   "source": [
    "# RUN THE DUMMY"
   ]
  },
  {
   "cell_type": "code",
   "execution_count": 12,
   "id": "0d3aebcb",
   "metadata": {},
   "outputs": [
    {
     "name": "stdout",
     "output_type": "stream",
     "text": [
      "Accuracy Score - 0.8769281988680502\n"
     ]
    }
   ],
   "source": [
    "# Importing the DummyClassifier class from sklearn.dummy module\n",
    "from sklearn.dummy import DummyClassifier\n",
    "\n",
    "# Creating a DummyClassifier object with 'most_frequent' strategy\n",
    "# 'most_frequent' strategy always predicts the most frequent class in the training data\n",
    "# random_state=42 ensures reproducibility of results\n",
    "clf = DummyClassifier(strategy='most_frequent', random_state=42)\n",
    "\n",
    "# Training the DummyClassifier on the training data\n",
    "clf.fit(X_train, Y_train)\n",
    "\n",
    "# Making predictions on the test data using the trained DummyClassifier\n",
    "Y_pred_baseline = clf.predict(X_test)\n",
    "\n",
    "# Calculating the accuracy score by comparing the predicted labels (Y_pred_baseline) with the actual labels (Y_test)\n",
    "baseline_accuracy = accuracy_score(Y_test, Y_pred_baseline)\n",
    "\n",
    "# Printing the accuracy score\n",
    "print('Accuracy Score -', baseline_accuracy)"
   ]
  },
  {
   "cell_type": "markdown",
   "id": "8aa4b6a5",
   "metadata": {},
   "source": [
    "# CONFUSION MATRIX"
   ]
  },
  {
   "cell_type": "code",
   "execution_count": 13,
   "id": "c5276259",
   "metadata": {},
   "outputs": [
    {
     "name": "stdout",
     "output_type": "stream",
     "text": [
      "Confusion Matrix:\n",
      "[[  19    1  199    4    0]\n",
      " [   6   18  576    8    0]\n",
      " [   8   48 7827   19    0]\n",
      " [   0    5  192   31    0]\n",
      " [   0    0   50    0    0]]\n"
     ]
    }
   ],
   "source": [
    "# Importing the confusion_matrix function from sklearn.metrics module\n",
    "from sklearn.metrics import confusion_matrix\n",
    "\n",
    "# Making predictions on the test data using the trained model\n",
    "Y_pred = model1.predict(X_test_tf)\n",
    "\n",
    "# Calculating the confusion matrix by comparing the predicted labels (Y_pred) with the actual labels (Y_test)\n",
    "# The confusion matrix provides a summary of predictions made by the model\n",
    "# Rows correspond to actual classes, while columns correspond to predicted classes\n",
    "# Each cell (i, j) in the matrix represents the number of instances of class i predicted as class j\n",
    "# The diagonal elements (top-left to bottom-right) represent correctly classified instances\n",
    "# Off-diagonal elements represent misclassifications\n",
    "conf_matrix = confusion_matrix(Y_test, Y_pred)\n",
    "\n",
    "# Printing the confusion matrix\n",
    "print('Confusion Matrix:')\n",
    "print(conf_matrix)"
   ]
  },
  {
   "cell_type": "markdown",
   "id": "209eb6b4",
   "metadata": {},
   "source": [
    "# PLOTTING CONFUSION MATRIX"
   ]
  },
  {
   "cell_type": "code",
   "execution_count": 14,
   "id": "8b9d55bb",
   "metadata": {},
   "outputs": [
    {
     "data": {
      "image/png": "[encoded data removed]",
      "text/plain": [
       "<Figure size 800x800 with 2 Axes>"
      ]
     },
     "metadata": {},
     "output_type": "display_data"
    }
   ],
   "source": [
    "from sklearn.metrics import confusion_matrix, ConfusionMatrixDisplay\n",
    "import matplotlib.pyplot as plt\n",
    "\n",
    "# Calculating the confusion matrix\n",
    "conf_matrix = confusion_matrix(Y_test, Y_pred)\n",
    "\n",
    "# Creating a ConfusionMatrixDisplay object with the confusion matrix\n",
    "cm_display = ConfusionMatrixDisplay(confusion_matrix=conf_matrix, display_labels=model1.classes_)\n",
    "\n",
    "# Plotting the confusion matrix\n",
    "fig, ax = plt.subplots(figsize=(8, 8))\n",
    "cm_display.plot(ax=ax, cmap=plt.cm.Blues, values_format='d')\n",
    "\n",
    "# Adding a title and axis labels\n",
    "plt.title('Confusion Matrix')\n",
    "plt.xlabel('Predicted Label')\n",
    "plt.ylabel('True Label')\n",
    "\n",
    "# Displaying the plot\n",
    "plt.show()"
   ]
  },
  {
   "cell_type": "markdown",
   "id": "8a075fcc",
   "metadata": {},
   "source": [
    "# CLASIFICATION REPORT"
   ]
  },
  {
   "cell_type": "code",
   "execution_count": 15,
   "id": "1a90ffdc",
   "metadata": {},
   "outputs": [
    {
     "name": "stdout",
     "output_type": "stream",
     "text": [
      "              precision    recall  f1-score   support\n",
      "\n",
      "          P1       0.58      0.09      0.15       223\n",
      "          P2       0.25      0.03      0.05       608\n",
      "          P3       0.89      0.99      0.93      7902\n",
      "          P4       0.50      0.14      0.21       228\n",
      "          P5       1.00      0.00      0.00        50\n",
      "\n",
      "    accuracy                           0.88      9011\n",
      "   macro avg       0.64      0.25      0.27      9011\n",
      "weighted avg       0.83      0.88      0.83      9011\n",
      "\n"
     ]
    }
   ],
   "source": [
    "from sklearn.metrics import classification_report\n",
    "\n",
    "# Print classification report with zero_division='warn'\n",
    "print(classification_report(Y_test, Y_pred, zero_division=1))"
   ]
  },
  {
   "cell_type": "markdown",
   "id": "2fea4f12",
   "metadata": {},
   "source": [
    "# DOWNSAMPLING"
   ]
  },
  {
   "cell_type": "code",
   "execution_count": 16,
   "id": "f767414d",
   "metadata": {},
   "outputs": [
    {
     "data": {
      "text/plain": [
       "Priority\n",
       "P3    4000\n",
       "P2    3038\n",
       "P4    1138\n",
       "P1    1117\n",
       "P5     252\n",
       "Name: count, dtype: int64"
      ]
     },
     "execution_count": 16,
     "metadata": {},
     "output_type": "execute_result"
    }
   ],
   "source": [
    "# Filter bug reports with priority P3 and sample 4000 rows from it\n",
    "df_sampleP3 = df[df['Priority'] == 'P3'].sample(n=4000, random_state=123)\n",
    "\n",
    "# Create a separate dataframe containing all other bug reports\n",
    "df_sampleRest = df[df['Priority'] != 'P3']\n",
    "\n",
    "# Concatenate the two dataframes to create the new balanced bug reports dataset\n",
    "df_balanced = pd.concat([df_sampleRest, df_sampleP3])\n",
    "\n",
    "# Check the status of the class imbalance\n",
    "df_balanced['Priority'].value_counts()"
   ]
  },
  {
   "cell_type": "markdown",
   "id": "b445cbbf",
   "metadata": {},
   "source": [
    "# LETS REPEAT EVERYTHING"
   ]
  },
  {
   "cell_type": "code",
   "execution_count": 17,
   "id": "3597d6b6",
   "metadata": {},
   "outputs": [
    {
     "name": "stdout",
     "output_type": "stream",
     "text": [
      "Size of Training Data  7636\n",
      "Size of Test Data  1909\n",
      "Accuracy Score -  0.5028810895756941\n",
      "              precision    recall  f1-score   support\n",
      "\n",
      "          P1       0.44      0.29      0.35       223\n",
      "          P2       0.45      0.48      0.46       608\n",
      "          P3       0.56      0.66      0.60       800\n",
      "          P4       0.47      0.34      0.39       228\n",
      "          P5       0.00      0.00      0.00        50\n",
      "\n",
      "    accuracy                           0.50      1909\n",
      "   macro avg       0.38      0.35      0.36      1909\n",
      "weighted avg       0.48      0.50      0.49      1909\n",
      "\n"
     ]
    }
   ],
   "source": [
    "# Importing necessary libraries and modules\n",
    "from sklearn.model_selection import train_test_split\n",
    "from sklearn.feature_extraction.text import TfidfVectorizer\n",
    "from sklearn.svm import LinearSVC\n",
    "from sklearn.metrics import accuracy_score, classification_report\n",
    "import warnings\n",
    "\n",
    "# Suppressing FutureWarning about the default value of `dual` parameter\n",
    "warnings.filterwarnings(\"ignore\", category=FutureWarning)\n",
    "\n",
    "# Loading the balanced dataframe containing text and priority labels\n",
    "df = df_balanced[['text', 'Priority']]\n",
    "\n",
    "# Dropping rows with missing values\n",
    "df = df.dropna()\n",
    "\n",
    "# Step 1 - Data Preparation\n",
    "# Applying the clean function to preprocess the text data\n",
    "df['text'] = df['text'].apply(clean)\n",
    "\n",
    "# Step 2 - Train-Test Split\n",
    "# Splitting the data into training and test sets\n",
    "X_train, X_test, Y_train, Y_test = train_test_split(df['text'],\n",
    "                                                    df['Priority'],\n",
    "                                                    test_size=0.2,  # 20% of data used for testing\n",
    "                                                    random_state=42,  # Random seed for reproducibility\n",
    "                                                    stratify=df['Priority'])  # Stratified split based on Priority labels\n",
    "\n",
    "# Printing sizes of training and test sets\n",
    "print('Size of Training Data ', X_train.shape[0])\n",
    "print('Size of Test Data ', X_test.shape[0])\n",
    "\n",
    "# Step 3 - Training the Machine Learning model\n",
    "# Initializing TF-IDF vectorizer with specified parameters for feature extraction\n",
    "tfidf = TfidfVectorizer(min_df=10, ngram_range=(1, 2), stop_words=\"english\")\n",
    "\n",
    "# Transforming the training data into TF-IDF representation\n",
    "X_train_tf = tfidf.fit_transform(X_train)\n",
    "\n",
    "# Initializing LinearSVC model for classification\n",
    "model1 = LinearSVC(random_state=0, tol=1e-5, dual=True)\n",
    "\n",
    "# Fitting the model on the TF-IDF transformed training data\n",
    "model1.fit(X_train_tf, Y_train)\n",
    "\n",
    "# Step 4 - Model Evaluation\n",
    "# Transforming the test data into TF-IDF representation using the same vocabulary as training data\n",
    "X_test_tf = tfidf.transform(X_test)\n",
    "\n",
    "# Making predictions on the test data\n",
    "Y_pred = model1.predict(X_test_tf)\n",
    "\n",
    "# Calculating and printing accuracy score\n",
    "print('Accuracy Score - ', accuracy_score(Y_test, Y_pred))\n",
    "\n",
    "# Generating and printing classification report\n",
    "print(classification_report(Y_test, Y_pred))"
   ]
  }
 ],
 "metadata": {
  "kernelspec": {
   "display_name": "Python 3 (ipykernel)",
   "language": "python",
   "name": "python3"
  },
  "language_info": {
   "codemirror_mode": {
    "name": "ipython",
    "version": 3
   },
   "file_extension": ".py",
   "mimetype": "text/x-python",
   "name": "python",
   "nbconvert_exporter": "python",
   "pygments_lexer": "ipython3",
   "version": "3.11.5"
  }
 },
 "nbformat": 4,
 "nbformat_minor": 5
}
