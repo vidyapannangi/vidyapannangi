{
 "cells": [
  {
   "cell_type": "markdown",
   "id": "8a39a3ed",
   "metadata": {},
   "source": [
    "# Basic String Operation"
   ]
  },
  {
   "cell_type": "code",
   "execution_count": 1,
   "id": "aee62bca",
   "metadata": {},
   "outputs": [
    {
     "name": "stdout",
     "output_type": "stream",
     "text": [
      "Hello\n"
     ]
    }
   ],
   "source": [
    "# Assigning the string \"Hello\" to the variable a\n",
    "a = \"Hello\"\n",
    "\n",
    "# Printing the value of the variable a\n",
    "print(a)"
   ]
  },
  {
   "cell_type": "markdown",
   "id": "f105f450",
   "metadata": {},
   "source": [
    "# Accessing Individual letters"
   ]
  },
  {
   "cell_type": "code",
   "execution_count": 2,
   "id": "80f2211b-3c64-43f8-a552-c6a20a0d257f",
   "metadata": {},
   "outputs": [
    {
     "name": "stdout",
     "output_type": "stream",
     "text": [
      "e\n"
     ]
    }
   ],
   "source": [
    "# Assigning the string \"Hello, World!\" to the variable a\n",
    "a = \"Hello, World!\"\n",
    "\n",
    "# Printing the character at index 1 of the string stored in variable a\n",
    "print(a[1])\n"
   ]
  },
  {
   "cell_type": "code",
   "execution_count": 3,
   "id": "f2af3890-a706-4745-92a9-42131bf17419",
   "metadata": {},
   "outputs": [
    {
     "name": "stdout",
     "output_type": "stream",
     "text": [
      "dya\n"
     ]
    }
   ],
   "source": [
    "# Assigning the string \"Vidya, Pannangi!\" to the variable b\n",
    "b = \"Vidya, Pannangi!\"\n",
    "\n",
    "# Printing the substring from index 2 (inclusive) to index 5 (exclusive) of the string stored in variable b\n",
    "print(b[2:5])\n"
   ]
  },
  {
   "cell_type": "markdown",
   "id": "f6b8a281",
   "metadata": {},
   "source": [
    "# Length String Operation"
   ]
  },
  {
   "cell_type": "code",
   "execution_count": 4,
   "id": "e110ca5b-996e-48bd-9dbb-df79ef7d7e43",
   "metadata": {},
   "outputs": [
    {
     "name": "stdout",
     "output_type": "stream",
     "text": [
      "16\n"
     ]
    }
   ],
   "source": [
    "# Assigning the string \"Vidya, Pannangi!\" to the variable a\n",
    "a = \"Vidya, Pannangi!\"\n",
    "\n",
    "# Printing the length of the string stored in variable a using the len() function\n",
    "print(len(a))\n"
   ]
  },
  {
   "cell_type": "markdown",
   "id": "8c2e4ff9",
   "metadata": {},
   "source": [
    "#  Upper String Operation"
   ]
  },
  {
   "cell_type": "code",
   "execution_count": 5,
   "id": "9793d92e-c6fc-4426-9f77-1a8ce13f59fd",
   "metadata": {},
   "outputs": [
    {
     "name": "stdout",
     "output_type": "stream",
     "text": [
      "VIDYA, PANNANGI!\n"
     ]
    }
   ],
   "source": [
    "# Calling the upper() method to convert all characters in the string to uppercase\n",
    "# and then printing the modified string\n",
    "print(a.upper())\n"
   ]
  },
  {
   "cell_type": "markdown",
   "id": "7dc4d0ce",
   "metadata": {},
   "source": [
    "# Lower String Operation"
   ]
  },
  {
   "cell_type": "code",
   "execution_count": 6,
   "id": "c6452d2b-a651-4c96-8e92-659a9bd46fc2",
   "metadata": {},
   "outputs": [
    {
     "name": "stdout",
     "output_type": "stream",
     "text": [
      "vidya, pannangi!\n"
     ]
    }
   ],
   "source": [
    "# Calling the lower() method to convert all characters in the string to lowercase\n",
    "# and then printing the modified string\n",
    "print(a.lower())\n"
   ]
  },
  {
   "cell_type": "markdown",
   "id": "543c62af",
   "metadata": {},
   "source": [
    "# Replace String Operation"
   ]
  },
  {
   "cell_type": "code",
   "execution_count": 7,
   "id": "7edb5d49-847a-40cd-9d51-ee0ef247021f",
   "metadata": {},
   "outputs": [
    {
     "name": "stdout",
     "output_type": "stream",
     "text": [
      "Jidya, Pannangi!\n"
     ]
    }
   ],
   "source": [
    "# Calling the replace() method to replace all occurrences of \"V\" with \"J\" in the string\n",
    "# and then printing the modified string\n",
    "print(a.replace(\"V\", \"J\"))\n"
   ]
  },
  {
   "cell_type": "markdown",
   "id": "7110a12c",
   "metadata": {},
   "source": [
    "# String Concatenation"
   ]
  },
  {
   "cell_type": "code",
   "execution_count": 8,
   "id": "357c081c-7b8f-4729-837a-b28009c2203d",
   "metadata": {},
   "outputs": [
    {
     "name": "stdout",
     "output_type": "stream",
     "text": [
      "Vidya Pannangi\n"
     ]
    }
   ],
   "source": [
    "# Assigning the string \"Vidya\" to the variable a\n",
    "a = \"Vidya\"\n",
    "\n",
    "# Assigning the string \"Pannangi\" to the variable b\n",
    "b = \"Pannangi\"\n",
    "\n",
    "# Concatenating the strings stored in variables a and b, along with a space in between,\n",
    "# and assigning the result to the variable c\n",
    "c = a + \" \" + b\n",
    "\n",
    "# Printing the concatenated string stored in variable c\n",
    "print(c)\n"
   ]
  },
  {
   "cell_type": "markdown",
   "id": "5edcb88d",
   "metadata": {},
   "source": [
    "# Splitting a String"
   ]
  },
  {
   "cell_type": "code",
   "execution_count": 9,
   "id": "cce24315-577d-42b8-a2aa-d58874fbd988",
   "metadata": {},
   "outputs": [
    {
     "name": "stdout",
     "output_type": "stream",
     "text": [
      "['One', 'two', 'three', 'four']\n"
     ]
    }
   ],
   "source": [
    "# Assigning the string 'One two three four' to the variable my_string\n",
    "my_string = 'One two three four'\n",
    "\n",
    "# Using the split() method to split the string into a list of words based on whitespace\n",
    "word_list = my_string.split()\n",
    "\n",
    "# Printing the resulting list of words\n",
    "print(word_list)\n"
   ]
  },
  {
   "cell_type": "code",
   "execution_count": 11,
   "id": "70b4cf86-c69a-4a45-8522-b71a7b6c9657",
   "metadata": {},
   "outputs": [
    {
     "name": "stdout",
     "output_type": "stream",
     "text": [
      "['1', '2', '3', '4', '5']\n"
     ]
    }
   ],
   "source": [
    "# Assigning the string '1/2/3/4/5' to the variable my_string\n",
    "my_string = '1/2/3/4/5'\n",
    "\n",
    "# Using the split() method to split the string into a list of numbers based on the '/' delimiter\n",
    "number_list = my_string.split('/')\n",
    "\n",
    "# Printing the resulting list of numbers\n",
    "print(number_list)\n",
    "\n"
   ]
  },
  {
   "cell_type": "markdown",
   "id": "0b66ebf3",
   "metadata": {},
   "source": [
    "# String Tokens"
   ]
  },
  {
   "cell_type": "code",
   "execution_count": 12,
   "id": "03c4dcd2-f10c-462d-b578-494151c99913",
   "metadata": {},
   "outputs": [
    {
     "name": "stdout",
     "output_type": "stream",
     "text": [
      "['peach', 'raspberry', 'strawberry', 'vanilla']\n"
     ]
    }
   ],
   "source": [
    "# Assigning the string 'peach raspberry strawberry vanilla' to the variable str\n",
    "str = 'peach raspberry strawberry vanilla'\n",
    "\n",
    "# Using the split() method to split the string into a list of tokens (words) based on whitespace\n",
    "tokens = str.split()\n",
    "\n",
    "# Printing the resulting list of tokens\n",
    "print(tokens)\n"
   ]
  },
  {
   "cell_type": "code",
   "execution_count": 13,
   "id": "75711fce-288c-48d0-a4c6-241af9431b95",
   "metadata": {},
   "outputs": [
    {
     "name": "stdout",
     "output_type": "stream",
     "text": [
      "['www', 'example', 'com']\n"
     ]
    }
   ],
   "source": [
    "# Assigning the string 'www.example.com' to the variable my_address\n",
    "my_address = 'www.example.com'\n",
    "\n",
    "# Using the split() method to split the string into a list of tokens (subdomains and domain) based on the '.' delimiter\n",
    "tokens = my_address.split('.')\n",
    "\n",
    "# Printing the resulting list of tokens\n",
    "print(tokens)\n"
   ]
  },
  {
   "cell_type": "markdown",
   "id": "ac85d630",
   "metadata": {},
   "source": [
    "# Strip Operations"
   ]
  },
  {
   "cell_type": "code",
   "execution_count": 3,
   "id": "c4c51e87-d3cd-4c03-8322-b4f2482c747c",
   "metadata": {},
   "outputs": [
    {
     "name": "stdout",
     "output_type": "stream",
     "text": [
      "Hello  w, world\n",
      " Hello  w, world\n"
     ]
    }
   ],
   "source": [
    "# Original string with leading and trailing whitespaces\n",
    "a = \" Hello  w, world  \"\n",
    "\n",
    "# Using strip() to remove leading and trailing whitespaces\n",
    "print(a.strip()) \n",
    "\n",
    "# Using rstrip() to remove trailing whitespaces\n",
    "print(a.rstrip())  \n"
   ]
  },
  {
   "cell_type": "code",
   "execution_count": 6,
   "id": "ef3256b2-7e99-4133-89bb-e77b24ba2197",
   "metadata": {},
   "outputs": [
    {
     "name": "stdout",
     "output_type": "stream",
     "text": [
      "Hello  w, world  \n"
     ]
    }
   ],
   "source": [
    "# Original string with leading and trailing whitespaces\n",
    "a = \" Hello  w, world  \"\n",
    "\n",
    "# Using lstrip() to remove leading whitespaces\n",
    "print(a.lstrip())  \n"
   ]
  },
  {
   "cell_type": "code",
   "execution_count": 5,
   "id": "2ec5b2fd-4d30-49a7-b97e-4a608ac553da",
   "metadata": {},
   "outputs": [
    {
     "name": "stdout",
     "output_type": "stream",
     "text": [
      "Hello  w, world--\n"
     ]
    }
   ],
   "source": [
    "# Original string with leading and trailing hyphens\n",
    "a = \"--Hello  w, world--\"\n",
    "\n",
    "# Using lstrip('-') to remove leading hyphens\n",
    "print(a.lstrip('-')) \n"
   ]
  },
  {
   "cell_type": "code",
   "execution_count": 7,
   "id": "1edec6fa-7e4c-4684-8ff9-a0431dd7d130",
   "metadata": {},
   "outputs": [
    {
     "name": "stdout",
     "output_type": "stream",
     "text": [
      "--Hello  w, world\n"
     ]
    }
   ],
   "source": [
    "# Original string with leading and trailing hyphens\n",
    "a = \"--Hello  w, world--\"\n",
    "\n",
    "# Using rstrip('-') to remove trailing hyphens\n",
    "print(a.rstrip('-'))  \n"
   ]
  },
  {
   "cell_type": "code",
   "execution_count": 8,
   "id": "5ca6f975-c5a8-4911-b2c8-393280f3c939",
   "metadata": {},
   "outputs": [
    {
     "name": "stdout",
     "output_type": "stream",
     "text": [
      "Hello  w, world\n"
     ]
    }
   ],
   "source": [
    "# Original string with leading and trailing hyphens\n",
    "a = \"--Hello  w, world--\"\n",
    "\n",
    "# Using strip('-') to remove both leading and trailing hyphens\n",
    "print(a.strip('-'))  \n"
   ]
  },
  {
   "cell_type": "code",
   "execution_count": 9,
   "id": "5bf5e219-f95b-4cc5-8630-810ad8c480e5",
   "metadata": {},
   "outputs": [
    {
     "name": "stdout",
     "output_type": "stream",
     "text": [
      "True\n"
     ]
    }
   ],
   "source": [
    "# Original string containing numeric characters\n",
    "a = '112'\n",
    "\n",
    "# Using isdigit() to check if all characters in the string are digits\n",
    "print(a.isdigit())  \n"
   ]
  },
  {
   "cell_type": "markdown",
   "id": "23438a8c",
   "metadata": {},
   "source": [
    "# String Methods"
   ]
  },
  {
   "cell_type": "code",
   "execution_count": 10,
   "id": "fb7f2c3e-7a53-4e37-a30a-31d18acfb06e",
   "metadata": {},
   "outputs": [
    {
     "name": "stdout",
     "output_type": "stream",
     "text": [
      "True\n",
      "True\n",
      "False\n"
     ]
    }
   ],
   "source": [
    "# Original string containing alphanumeric characters\n",
    "a = \"Kamla\"\n",
    "\n",
    "# Using isalnum() to check if all characters in the string are alphanumeric\n",
    "print(a.isalnum())  \n",
    "\n",
    "# Using isalpha() to check if all characters in the string are alphabetic\n",
    "print(a.isalpha())  \n",
    "\n",
    "# Using isupper() to check if all characters in the string are uppercase\n",
    "print(a.isupper()) \n"
   ]
  }
 ],
 "metadata": {
  "kernelspec": {
   "display_name": "Python 3 (ipykernel)",
   "language": "python",
   "name": "python3"
  },
  "language_info": {
   "codemirror_mode": {
    "name": "ipython",
    "version": 3
   },
   "file_extension": ".py",
   "mimetype": "text/x-python",
   "name": "python",
   "nbconvert_exporter": "python",
   "pygments_lexer": "ipython3",
   "version": "3.11.5"
  }
 },
 "nbformat": 4,
 "nbformat_minor": 5
}
