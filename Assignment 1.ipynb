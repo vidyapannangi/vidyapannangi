{
 "cells": [
  {
   "cell_type": "markdown",
   "id": "7a8a9569",
   "metadata": {},
   "source": [
    "# Basic String Operation"
   ]
  },
  {
   "cell_type": "code",
   "execution_count": 1,
   "id": "28336ce8",
   "metadata": {},
   "outputs": [
    {
     "name": "stdout",
     "output_type": "stream",
     "text": [
      "Vidya\n"
     ]
    }
   ],
   "source": [
    "# Printing a Variable\n",
    "a=\"Vidya\"\n",
    "print(a)"
   ]
  },
  {
   "cell_type": "markdown",
   "id": "e42c20a2",
   "metadata": {},
   "source": [
    "# Count() Method"
   ]
  },
  {
   "cell_type": "code",
   "execution_count": 4,
   "id": "7936d7f3",
   "metadata": {},
   "outputs": [
    {
     "name": "stdout",
     "output_type": "stream",
     "text": [
      "3\n"
     ]
    }
   ],
   "source": [
    "txt = \"she sells seashells by the seashore\"\n",
    "x = txt.count(\"sh\")  # Counting occurrences of \"sh\"\n",
    "print(x) "
   ]
  },
  {
   "cell_type": "markdown",
   "id": "5df339f8",
   "metadata": {},
   "source": [
    "# Capitalize() Method"
   ]
  },
  {
   "cell_type": "code",
   "execution_count": 5,
   "id": "f29b40f8",
   "metadata": {},
   "outputs": [
    {
     "name": "stdout",
     "output_type": "stream",
     "text": [
      "Python programming is fun\n"
     ]
    }
   ],
   "source": [
    "txt = \"python programming is fun\"\n",
    "x = txt.capitalize()  # Capitalizing the first letter\n",
    "print(x) "
   ]
  },
  {
   "cell_type": "markdown",
   "id": "953eb51f",
   "metadata": {},
   "source": [
    "# Center() Method"
   ]
  },
  {
   "cell_type": "code",
   "execution_count": 6,
   "id": "51467923",
   "metadata": {},
   "outputs": [
    {
     "name": "stdout",
     "output_type": "stream",
     "text": [
      "       middle       \n"
     ]
    }
   ],
   "source": [
    "txt = \"middle\"\n",
    "x = txt.center(20) # giving length as 20\n",
    "print(x)"
   ]
  },
  {
   "cell_type": "code",
   "execution_count": 7,
   "id": "d43d0a52",
   "metadata": {},
   "outputs": [
    {
     "name": "stdout",
     "output_type": "stream",
     "text": [
      "-----Python----\n"
     ]
    }
   ],
   "source": [
    "txt = \"Python\"\n",
    "x = txt.center(15, '-')  # Centering the string within a total width of 15, padding with '-'\n",
    "print(x)"
   ]
  },
  {
   "cell_type": "markdown",
   "id": "46bee152",
   "metadata": {},
   "source": [
    "# endswith() Method"
   ]
  },
  {
   "cell_type": "code",
   "execution_count": 8,
   "id": "72848364",
   "metadata": {},
   "outputs": [
    {
     "name": "stdout",
     "output_type": "stream",
     "text": [
      "True\n"
     ]
    }
   ],
   "source": [
    "txt = \"Hello World!\"\n",
    "x = txt.endswith(\"!\")  # Checking if the string ends with '!'\n",
    "print(x)"
   ]
  },
  {
   "cell_type": "markdown",
   "id": "e24edac0",
   "metadata": {},
   "source": [
    "# title() Method"
   ]
  },
  {
   "cell_type": "code",
   "execution_count": 9,
   "id": "32c6ee9f",
   "metadata": {},
   "outputs": [
    {
     "name": "stdout",
     "output_type": "stream",
     "text": [
      "The Quick Brown Fox\n"
     ]
    }
   ],
   "source": [
    "txt = \"the quick brown fox\"\n",
    "x = txt.title()  # Changing the first letter of every word to uppercase\n",
    "print(x)"
   ]
  },
  {
   "cell_type": "markdown",
   "id": "a2786491",
   "metadata": {},
   "source": [
    "# String Slicing"
   ]
  },
  {
   "cell_type": "markdown",
   "id": "a57dea8f",
   "metadata": {},
   "source": [
    "# Printing a certain element"
   ]
  },
  {
   "cell_type": "code",
   "execution_count": 11,
   "id": "958d632b",
   "metadata": {},
   "outputs": [
    {
     "name": "stdout",
     "output_type": "stream",
     "text": [
      "i\n",
      "Vidya\n",
      "i\n"
     ]
    }
   ],
   "source": [
    "# Printing a Certain Letter from the String\n",
    "a=\"Sri Vidya Gayathri\"\n",
    "# Printing the letter 'r'\n",
    "print(a[2]) \n",
    "\n",
    "# Printing the substring \"Vidya\"\n",
    "print(a[4:9]) \n",
    "\n",
    "# Printing the letter 'i' from the end of the string\n",
    "print(a[-1])"
   ]
  },
  {
   "cell_type": "markdown",
   "id": "b7122c8a",
   "metadata": {},
   "source": [
    "# Printing certain words from string"
   ]
  },
  {
   "cell_type": "code",
   "execution_count": 13,
   "id": "c4785f23",
   "metadata": {},
   "outputs": [
    {
     "name": "stdout",
     "output_type": "stream",
     "text": [
      "dya\n"
     ]
    }
   ],
   "source": [
    "a=\"Vidya Gayathri\"\n",
    "print(a[2:5]) # Printing letters from Index 2(including ) to 5(excluding)"
   ]
  },
  {
   "cell_type": "markdown",
   "id": "c3756135",
   "metadata": {},
   "source": [
    "# Printing Letters From Backward of a String"
   ]
  },
  {
   "cell_type": "code",
   "execution_count": 15,
   "id": "58983716",
   "metadata": {},
   "outputs": [
    {
     "name": "stdout",
     "output_type": "stream",
     "text": [
      "r\n"
     ]
    }
   ],
   "source": [
    "a=\"Sri Vidya Gayathri\"\n",
    "print(a[-2]) # We use negative Index to Print String from Backward"
   ]
  },
  {
   "cell_type": "markdown",
   "id": "848884fa",
   "metadata": {},
   "source": [
    "# Printing Length of a String"
   ]
  },
  {
   "cell_type": "code",
   "execution_count": 16,
   "id": "afd24377",
   "metadata": {},
   "outputs": [
    {
     "name": "stdout",
     "output_type": "stream",
     "text": [
      "29\n"
     ]
    }
   ],
   "source": [
    "a=\"My Name is Sri Vidya Gayathri\"\n",
    "#Finding the Length of a String\n",
    "print(len(a))"
   ]
  },
  {
   "cell_type": "markdown",
   "id": "fd5750ce",
   "metadata": {},
   "source": [
    "# Changing String into LowerCase"
   ]
  },
  {
   "cell_type": "code",
   "execution_count": 17,
   "id": "ea910a7d",
   "metadata": {},
   "outputs": [
    {
     "name": "stdout",
     "output_type": "stream",
     "text": [
      "sri vidya gayathri\n"
     ]
    }
   ],
   "source": [
    "# Changing String into lower Case\n",
    "a=\"SRI VIDYA GAYATHRI\"\n",
    "print(a.lower())"
   ]
  },
  {
   "cell_type": "markdown",
   "id": "19225811",
   "metadata": {},
   "source": [
    "# Changing String into UpperCase"
   ]
  },
  {
   "cell_type": "code",
   "execution_count": 18,
   "id": "15eda77b",
   "metadata": {},
   "outputs": [
    {
     "name": "stdout",
     "output_type": "stream",
     "text": [
      "SRI VIDYA GAYATHRI\n"
     ]
    }
   ],
   "source": [
    "# Changing String  into Upper Case  \n",
    "a=\"sri vidya gayathri\"\n",
    "print(a.upper())"
   ]
  },
  {
   "cell_type": "markdown",
   "id": "965d90a7",
   "metadata": {},
   "source": [
    "# String Searching"
   ]
  },
  {
   "cell_type": "code",
   "execution_count": 19,
   "id": "46afa07b",
   "metadata": {},
   "outputs": [
    {
     "name": "stdout",
     "output_type": "stream",
     "text": [
      "True\n"
     ]
    }
   ],
   "source": [
    "# Checking Weather the String Ends with d\n",
    "a=\"Hello,world\"\n",
    "print(a.endswith(\"d\"))"
   ]
  },
  {
   "cell_type": "code",
   "execution_count": 20,
   "id": "394fa840",
   "metadata": {},
   "outputs": [
    {
     "name": "stdout",
     "output_type": "stream",
     "text": [
      "1\n"
     ]
    }
   ],
   "source": [
    "# Searching for Substring within the string \n",
    "print(a.find(\"ello\"))"
   ]
  },
  {
   "cell_type": "markdown",
   "id": "c5c7f586",
   "metadata": {},
   "source": [
    "# String Concatenation"
   ]
  },
  {
   "cell_type": "code",
   "execution_count": 21,
   "id": "aa52433c",
   "metadata": {},
   "outputs": [
    {
     "name": "stdout",
     "output_type": "stream",
     "text": [
      "Vidya Pannangi\n"
     ]
    }
   ],
   "source": [
    "# String Concatenation\n",
    "a=\"Vidya\"\n",
    "b=\"Pannangi\"\n",
    "c=a+\" \"+b\n",
    "print(c)"
   ]
  },
  {
   "cell_type": "markdown",
   "id": "e6ae809f",
   "metadata": {},
   "source": [
    "# String Spliting"
   ]
  },
  {
   "cell_type": "code",
   "execution_count": 22,
   "id": "6879c948",
   "metadata": {},
   "outputs": [
    {
     "data": {
      "text/plain": [
       "['one', 'two', 'three', 'four']"
      ]
     },
     "execution_count": 22,
     "metadata": {},
     "output_type": "execute_result"
    }
   ],
   "source": [
    "my_string=\"one two three four\"\n",
    "## Spliting based on Space and Converting it into list.\n",
    "my_list=my_string.split()\n",
    "my_list"
   ]
  },
  {
   "cell_type": "markdown",
   "id": "6ba0bb9f",
   "metadata": {},
   "source": [
    "# Spliting a String based on '/'"
   ]
  },
  {
   "cell_type": "code",
   "execution_count": 23,
   "id": "27e99cae",
   "metadata": {},
   "outputs": [
    {
     "data": {
      "text/plain": [
       "['1', '2', '3', '4', '5']"
      ]
     },
     "execution_count": 23,
     "metadata": {},
     "output_type": "execute_result"
    }
   ],
   "source": [
    "my_string=\"1/2/3/4/5\"\n",
    "# Spliting a String based on '/'\n",
    "my_list=my_string.split('/')\n",
    "my_list"
   ]
  },
  {
   "cell_type": "markdown",
   "id": "93cbd58f",
   "metadata": {},
   "source": [
    "# Spliting a String based on Space"
   ]
  },
  {
   "cell_type": "code",
   "execution_count": 24,
   "id": "2ab34588",
   "metadata": {},
   "outputs": [
    {
     "data": {
      "text/plain": [
       "['peach', 'raspberry', 'strawberry', 'vanilla']"
      ]
     },
     "execution_count": 24,
     "metadata": {},
     "output_type": "execute_result"
    }
   ],
   "source": [
    "# Spliting a String based on Space\n",
    "my_string=\"peach raspberry strawberry vanilla\"\n",
    "my_list=my_string.split()\n",
    "my_list"
   ]
  },
  {
   "cell_type": "markdown",
   "id": "285425ee",
   "metadata": {},
   "source": [
    "# Spliting a String based on ';'"
   ]
  },
  {
   "cell_type": "code",
   "execution_count": 25,
   "id": "93b04fb4",
   "metadata": {},
   "outputs": [
    {
     "data": {
      "text/plain": [
       "['17', '92', '81', '12', '46', '5']"
      ]
     },
     "execution_count": 25,
     "metadata": {},
     "output_type": "execute_result"
    }
   ],
   "source": [
    "my_string=\"17;92;81;12;46;5\"\n",
    "# Spliting a String based on ';'\n",
    "my_list=my_string.split(';')\n",
    "my_list"
   ]
  },
  {
   "cell_type": "markdown",
   "id": "3fcfc49a",
   "metadata": {},
   "source": [
    "# Removing spaces"
   ]
  },
  {
   "cell_type": "code",
   "execution_count": 26,
   "id": "caa77a07",
   "metadata": {},
   "outputs": [
    {
     "name": "stdout",
     "output_type": "stream",
     "text": [
      "Hello  w, world\n",
      " Hello  w, world\n"
     ]
    }
   ],
   "source": [
    "a=\" Hello  w, world  \"\n",
    "# Removing spaces \n",
    "print(a.strip())\n",
    "print(a.rstrip())"
   ]
  },
  {
   "cell_type": "markdown",
   "id": "b35210ed",
   "metadata": {},
   "source": [
    "# String Methods"
   ]
  },
  {
   "cell_type": "code",
   "execution_count": 27,
   "id": "e3df49e6",
   "metadata": {},
   "outputs": [
    {
     "name": "stdout",
     "output_type": "stream",
     "text": [
      "Hello  w, world  \n"
     ]
    }
   ],
   "source": [
    "a=\" Hello  w, world  \"\n",
    "# Removing left leading Spaces\n",
    "print(a.lstrip())"
   ]
  },
  {
   "cell_type": "code",
   "execution_count": 28,
   "id": "9638504a",
   "metadata": {},
   "outputs": [
    {
     "name": "stdout",
     "output_type": "stream",
     "text": [
      "Hello  w, world--\n"
     ]
    }
   ],
   "source": [
    "a=\"--Hello  w, world--\"\n",
    "# Removing left leading --\n",
    "print(a.lstrip('-'))"
   ]
  },
  {
   "cell_type": "code",
   "execution_count": 29,
   "id": "1c45f063",
   "metadata": {},
   "outputs": [
    {
     "name": "stdout",
     "output_type": "stream",
     "text": [
      "--Hello  w, world\n"
     ]
    }
   ],
   "source": [
    "a=\"--Hello  w, world--\"\n",
    "# Removing right leading --\n",
    "print(a.rstrip('-'))"
   ]
  },
  {
   "cell_type": "code",
   "execution_count": 30,
   "id": "1fc53bfa",
   "metadata": {},
   "outputs": [
    {
     "name": "stdout",
     "output_type": "stream",
     "text": [
      "Hello  w, world\n"
     ]
    }
   ],
   "source": [
    "a=\"--Hello  w, world--\"\n",
    "# Removing - from the Entire String\n",
    "print(a.strip('-'))"
   ]
  },
  {
   "cell_type": "markdown",
   "id": "6aae2d5b",
   "metadata": {},
   "source": [
    "# Checking  a String is Numeric or Not"
   ]
  },
  {
   "cell_type": "code",
   "execution_count": 33,
   "id": "a7f0f6a1",
   "metadata": {},
   "outputs": [
    {
     "name": "stdout",
     "output_type": "stream",
     "text": [
      "True\n"
     ]
    }
   ],
   "source": [
    "a='5'\n",
    "# Checking Weather given String is Numeric\n",
    "print(a.isdigit())"
   ]
  },
  {
   "cell_type": "code",
   "execution_count": 32,
   "id": "96f9ad68",
   "metadata": {},
   "outputs": [
    {
     "name": "stdout",
     "output_type": "stream",
     "text": [
      "True\n",
      "True\n",
      "False\n"
     ]
    }
   ],
   "source": [
    "a=\"Kamla\"\n",
    "## Cheacking weather given variable is numeric and alphabetical\n",
    "print(a.isalnum())  \n",
    "print(a.isalpha()) ## checking given variable is alphabetic\n",
    "print(a.isupper()) ## prints true if the variable has all upper case."
   ]
  },
  {
   "cell_type": "markdown",
   "id": "75ed5ad4",
   "metadata": {},
   "source": [
    "# Python Regex"
   ]
  },
  {
   "cell_type": "markdown",
   "id": "a2ca2cb1",
   "metadata": {},
   "source": [
    "# RegEx Module"
   ]
  },
  {
   "cell_type": "code",
   "execution_count": 34,
   "id": "dc890468",
   "metadata": {},
   "outputs": [],
   "source": [
    "import re"
   ]
  },
  {
   "cell_type": "markdown",
   "id": "a77ed09d",
   "metadata": {},
   "source": [
    "# Find All Function"
   ]
  },
  {
   "cell_type": "code",
   "execution_count": 35,
   "id": "c73b33f6",
   "metadata": {},
   "outputs": [
    {
     "name": "stdout",
     "output_type": "stream",
     "text": [
      "['ai']\n"
     ]
    }
   ],
   "source": [
    "txt = \"It Is Raining Outside\" \n",
    "x = re.findall(\"ai\", txt) # Print LIst of All Matches\n",
    "print(x)"
   ]
  },
  {
   "cell_type": "markdown",
   "id": "ed8ef737",
   "metadata": {},
   "source": [
    "# Search Function"
   ]
  },
  {
   "cell_type": "code",
   "execution_count": 36,
   "id": "7daf2651",
   "metadata": {},
   "outputs": [
    {
     "name": "stdout",
     "output_type": "stream",
     "text": [
      "<re.Match object; span=(14, 21), match='Outside'>\n"
     ]
    }
   ],
   "source": [
    "txt = \"It Is Raining Outside\"\n",
    "x = re.search(\"Outside\", txt)\n",
    "print(x)"
   ]
  },
  {
   "cell_type": "markdown",
   "id": "85e0c2cb",
   "metadata": {},
   "source": [
    "# Split Function "
   ]
  },
  {
   "cell_type": "code",
   "execution_count": 37,
   "id": "01c28ea7",
   "metadata": {},
   "outputs": [
    {
     "name": "stdout",
     "output_type": "stream",
     "text": [
      "['I', 'am', 'Going', 'to', 'School']\n"
     ]
    }
   ],
   "source": [
    "txt = \"I am Going to School\" \n",
    "x = re.split(\"\\s\", txt) # Split String After Every White Space.\n",
    "print(x)"
   ]
  },
  {
   "cell_type": "code",
   "execution_count": 38,
   "id": "01c8b279",
   "metadata": {},
   "outputs": [
    {
     "name": "stdout",
     "output_type": "stream",
     "text": [
      "['It', 'Is Raining Outside']\n"
     ]
    }
   ],
   "source": [
    "txt = \"It Is Raining Outside\"\n",
    "x = re.split(\"\\s\", txt, 1) # Split String At First Occurance\n",
    "print(x)"
   ]
  },
  {
   "cell_type": "markdown",
   "id": "12bb5a72",
   "metadata": {},
   "source": [
    "# Sub Function"
   ]
  },
  {
   "cell_type": "code",
   "execution_count": 39,
   "id": "44742f70",
   "metadata": {},
   "outputs": [
    {
     "name": "stdout",
     "output_type": "stream",
     "text": [
      "I9am9dancing\n"
     ]
    }
   ],
   "source": [
    "txt = \"I am dancing\"\n",
    "x = re.sub(\"\\s\", \"9\", txt) #Replace WhiteSpaces With 9\n",
    "print(x)"
   ]
  }
 ],
 "metadata": {
  "kernelspec": {
   "display_name": "Python 3 (ipykernel)",
   "language": "python",
   "name": "python3"
  },
  "language_info": {
   "codemirror_mode": {
    "name": "ipython",
    "version": 3
   },
   "file_extension": ".py",
   "mimetype": "text/x-python",
   "name": "python",
   "nbconvert_exporter": "python",
   "pygments_lexer": "ipython3",
   "version": "3.11.5"
  }
 },
 "nbformat": 4,
 "nbformat_minor": 5
}
