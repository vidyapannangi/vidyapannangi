{
 "cells": [
  {
   "cell_type": "code",
   "execution_count": 1,
   "id": "eac9337f-4133-4a4f-af2b-6f911a8b6717",
   "metadata": {},
   "outputs": [
    {
     "name": "stdout",
     "output_type": "stream",
     "text": [
      "Hello\n"
     ]
    }
   ],
   "source": [
    "a = \"Hello\"\n",
    "print(a)"
   ]
  },
  {
   "cell_type": "code",
   "execution_count": 2,
   "id": "80f2211b-3c64-43f8-a552-c6a20a0d257f",
   "metadata": {},
   "outputs": [
    {
     "name": "stdout",
     "output_type": "stream",
     "text": [
      "e\n"
     ]
    }
   ],
   "source": [
    "a = \"Hello, World!\"\n",
    "print(a[1])\n"
   ]
  },
  {
   "cell_type": "code",
   "execution_count": 3,
   "id": "f2af3890-a706-4745-92a9-42131bf17419",
   "metadata": {},
   "outputs": [
    {
     "name": "stdout",
     "output_type": "stream",
     "text": [
      "dya\n"
     ]
    }
   ],
   "source": [
    "b = \"Vidya, Pannangi!\"\n",
    "print(b[2:5])\n"
   ]
  },
  {
   "cell_type": "code",
   "execution_count": 4,
   "id": "e110ca5b-996e-48bd-9dbb-df79ef7d7e43",
   "metadata": {},
   "outputs": [
    {
     "name": "stdout",
     "output_type": "stream",
     "text": [
      "16\n"
     ]
    }
   ],
   "source": [
    "a = \"Vidya, Pannangi!\"\n",
    "print(len(a))\n"
   ]
  },
  {
   "cell_type": "code",
   "execution_count": 5,
   "id": "9793d92e-c6fc-4426-9f77-1a8ce13f59fd",
   "metadata": {},
   "outputs": [
    {
     "name": "stdout",
     "output_type": "stream",
     "text": [
      "VIDYA, PANNANGI!\n"
     ]
    }
   ],
   "source": [
    "print(a.upper())\n"
   ]
  },
  {
   "cell_type": "code",
   "execution_count": 6,
   "id": "c6452d2b-a651-4c96-8e92-659a9bd46fc2",
   "metadata": {},
   "outputs": [
    {
     "name": "stdout",
     "output_type": "stream",
     "text": [
      "vidya, pannangi!\n"
     ]
    }
   ],
   "source": [
    "print(a.lower())\n"
   ]
  },
  {
   "cell_type": "code",
   "execution_count": 7,
   "id": "7edb5d49-847a-40cd-9d51-ee0ef247021f",
   "metadata": {},
   "outputs": [
    {
     "name": "stdout",
     "output_type": "stream",
     "text": [
      "Jidya, Pannangi!\n"
     ]
    }
   ],
   "source": [
    "print(a.replace(\"V\", \"J\"))\n"
   ]
  },
  {
   "cell_type": "code",
   "execution_count": 8,
   "id": "357c081c-7b8f-4729-837a-b28009c2203d",
   "metadata": {},
   "outputs": [
    {
     "name": "stdout",
     "output_type": "stream",
     "text": [
      "Vidya Pannangi\n"
     ]
    }
   ],
   "source": [
    "a = \"Vidya\"\n",
    "\n",
    "b = \"Pannangi\"\n",
    "c = a + \" \" + b\n",
    "print(c)\n"
   ]
  },
  {
   "cell_type": "code",
   "execution_count": 9,
   "id": "cce24315-577d-42b8-a2aa-d58874fbd988",
   "metadata": {},
   "outputs": [
    {
     "name": "stdout",
     "output_type": "stream",
     "text": [
      "['One', 'two', 'three', 'four']\n"
     ]
    }
   ],
   "source": [
    "my_string = 'One two three four'\n",
    "\n",
    "word_list = my_string.split()\n",
    "\n",
    "print(word_list)\n"
   ]
  },
  {
   "cell_type": "code",
   "execution_count": 11,
   "id": "70b4cf86-c69a-4a45-8522-b71a7b6c9657",
   "metadata": {},
   "outputs": [
    {
     "name": "stdout",
     "output_type": "stream",
     "text": [
      "['1', '2', '3', '4', '5']\n"
     ]
    }
   ],
   "source": [
    "my_string = '1/2/3/4/5'\n",
    "\n",
    "number_list = my_string.split('/')\n",
    "\n",
    "print(number_list)\n",
    "\n"
   ]
  },
  {
   "cell_type": "code",
   "execution_count": 12,
   "id": "03c4dcd2-f10c-462d-b578-494151c99913",
   "metadata": {},
   "outputs": [
    {
     "name": "stdout",
     "output_type": "stream",
     "text": [
      "['peach', 'raspberry', 'strawberry', 'vanilla']\n"
     ]
    }
   ],
   "source": [
    "str = 'peach raspberry strawberry vanilla'\n",
    "\n",
    "tokens = str.split()\n",
    "\n",
    "print(tokens)\n"
   ]
  },
  {
   "cell_type": "code",
   "execution_count": 13,
   "id": "75711fce-288c-48d0-a4c6-241af9431b95",
   "metadata": {},
   "outputs": [
    {
     "name": "stdout",
     "output_type": "stream",
     "text": [
      "['www', 'example', 'com']\n"
     ]
    }
   ],
   "source": [
    "my_address = 'www.example.com'\n",
    "\n",
    "tokens = my_address.split('.')\n",
    "\n",
    "print(tokens)\n"
   ]
  },
  {
   "cell_type": "code",
   "execution_count": 3,
   "id": "c4c51e87-d3cd-4c03-8322-b4f2482c747c",
   "metadata": {},
   "outputs": [
    {
     "name": "stdout",
     "output_type": "stream",
     "text": [
      "Hello  w, world\n",
      " Hello  w, world\n"
     ]
    }
   ],
   "source": [
    "a = \" Hello  w, world  \"\n",
    "print(a.strip()) \n",
    "\n",
    "print(a.rstrip())  \n"
   ]
  },
  {
   "cell_type": "code",
   "execution_count": 6,
   "id": "ef3256b2-7e99-4133-89bb-e77b24ba2197",
   "metadata": {},
   "outputs": [
    {
     "name": "stdout",
     "output_type": "stream",
     "text": [
      "Hello  w, world  \n"
     ]
    }
   ],
   "source": [
    "a = \" Hello  w, world  \"\n",
    "\n",
    "print(a.lstrip())  \n"
   ]
  },
  {
   "cell_type": "code",
   "execution_count": 5,
   "id": "2ec5b2fd-4d30-49a7-b97e-4a608ac553da",
   "metadata": {},
   "outputs": [
    {
     "name": "stdout",
     "output_type": "stream",
     "text": [
      "Hello  w, world--\n"
     ]
    }
   ],
   "source": [
    "a = \"--Hello  w, world--\"\n",
    "\n",
    "print(a.lstrip('-')) \n"
   ]
  },
  {
   "cell_type": "code",
   "execution_count": 7,
   "id": "1edec6fa-7e4c-4684-8ff9-a0431dd7d130",
   "metadata": {},
   "outputs": [
    {
     "name": "stdout",
     "output_type": "stream",
     "text": [
      "--Hello  w, world\n"
     ]
    }
   ],
   "source": [
    "a = \"--Hello  w, world--\"\n",
    "\n",
    "print(a.rstrip('-'))  \n"
   ]
  },
  {
   "cell_type": "code",
   "execution_count": 8,
   "id": "5ca6f975-c5a8-4911-b2c8-393280f3c939",
   "metadata": {},
   "outputs": [
    {
     "name": "stdout",
     "output_type": "stream",
     "text": [
      "Hello  w, world\n"
     ]
    }
   ],
   "source": [
    "a = \"--Hello  w, world--\"\n",
    "\n",
    "print(a.strip('-'))  \n"
   ]
  },
  {
   "cell_type": "code",
   "execution_count": 9,
   "id": "5bf5e219-f95b-4cc5-8630-810ad8c480e5",
   "metadata": {},
   "outputs": [
    {
     "name": "stdout",
     "output_type": "stream",
     "text": [
      "True\n"
     ]
    }
   ],
   "source": [
    "a = '112'\n",
    "\n",
    "print(a.isdigit())  \n"
   ]
  },
  {
   "cell_type": "code",
   "execution_count": 10,
   "id": "fb7f2c3e-7a53-4e37-a30a-31d18acfb06e",
   "metadata": {},
   "outputs": [
    {
     "name": "stdout",
     "output_type": "stream",
     "text": [
      "True\n",
      "True\n",
      "False\n"
     ]
    }
   ],
   "source": [
    "a = \"Kamla\"\n",
    "\n",
    "print(a.isalnum())  \n",
    "\n",
    "print(a.isalpha())  \n",
    "\n",
    "print(a.isupper()) \n"
   ]
  }
 ],
 "metadata": {
  "kernelspec": {
   "display_name": "Python 3 (ipykernel)",
   "language": "python",
   "name": "python3"
  },
  "language_info": {
   "codemirror_mode": {
    "name": "ipython",
    "version": 3
   },
   "file_extension": ".py",
   "mimetype": "text/x-python",
   "name": "python",
   "nbconvert_exporter": "python",
   "pygments_lexer": "ipython3",
   "version": "3.12.1"
  }
 },
 "nbformat": 4,
 "nbformat_minor": 5
}
