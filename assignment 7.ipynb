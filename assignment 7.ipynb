{
 "cells": [
  {
   "cell_type": "code",
   "execution_count": 2,
   "id": "bab1ae3f",
   "metadata": {},
   "outputs": [
    {
     "name": "stdout",
     "output_type": "stream",
     "text": [
      "Requirement already satisfied: pandas in c:\\users\\dell\\anaconda3\\lib\\site-packages (2.0.3)\n",
      "Requirement already satisfied: python-dateutil>=2.8.2 in c:\\users\\dell\\anaconda3\\lib\\site-packages (from pandas) (2.8.2)\n",
      "Requirement already satisfied: pytz>=2020.1 in c:\\users\\dell\\anaconda3\\lib\\site-packages (from pandas) (2023.3.post1)\n",
      "Requirement already satisfied: tzdata>=2022.1 in c:\\users\\dell\\anaconda3\\lib\\site-packages (from pandas) (2023.3)\n",
      "Requirement already satisfied: numpy>=1.21.0 in c:\\users\\dell\\anaconda3\\lib\\site-packages (from pandas) (1.24.3)\n",
      "Requirement already satisfied: six>=1.5 in c:\\users\\dell\\anaconda3\\lib\\site-packages (from python-dateutil>=2.8.2->pandas) (1.16.0)\n"
     ]
    },
    {
     "data": {
      "text/html": [
       "<div>\n",
       "<style scoped>\n",
       "    .dataframe tbody tr th:only-of-type {\n",
       "        vertical-align: middle;\n",
       "    }\n",
       "\n",
       "    .dataframe tbody tr th {\n",
       "        vertical-align: top;\n",
       "    }\n",
       "\n",
       "    .dataframe thead th {\n",
       "        text-align: right;\n",
       "    }\n",
       "</style>\n",
       "<table border=\"1\" class=\"dataframe\">\n",
       "  <thead>\n",
       "    <tr style=\"text-align: right;\">\n",
       "      <th></th>\n",
       "      <th>overall</th>\n",
       "      <th>verified</th>\n",
       "      <th>reviewerID</th>\n",
       "      <th>asin</th>\n",
       "      <th>reviewText</th>\n",
       "      <th>summary</th>\n",
       "    </tr>\n",
       "  </thead>\n",
       "  <tbody>\n",
       "    <tr>\n",
       "      <th>0</th>\n",
       "      <td>4</td>\n",
       "      <td>True</td>\n",
       "      <td>AIE8N9U317ZBM</td>\n",
       "      <td>449819906</td>\n",
       "      <td>Contains some interesting stitches.</td>\n",
       "      <td>Four Stars</td>\n",
       "    </tr>\n",
       "    <tr>\n",
       "      <th>1</th>\n",
       "      <td>5</td>\n",
       "      <td>True</td>\n",
       "      <td>A3ECOW0TWLH9V6</td>\n",
       "      <td>449819906</td>\n",
       "      <td>I'm a fairly experienced knitter of the one-co...</td>\n",
       "      <td>My current favorite go-to guide for inspiration</td>\n",
       "    </tr>\n",
       "    <tr>\n",
       "      <th>2</th>\n",
       "      <td>4</td>\n",
       "      <td>True</td>\n",
       "      <td>A278N8QX9TY2OS</td>\n",
       "      <td>449819906</td>\n",
       "      <td>Great book but the index is terrible. Had to w...</td>\n",
       "      <td>lots of great examples, good instructions, col...</td>\n",
       "    </tr>\n",
       "    <tr>\n",
       "      <th>3</th>\n",
       "      <td>5</td>\n",
       "      <td>True</td>\n",
       "      <td>A123W8HIK76XCN</td>\n",
       "      <td>449819906</td>\n",
       "      <td>I purchased the Kindle edition which is incred...</td>\n",
       "      <td>Another little gem by Melissa Leapman</td>\n",
       "    </tr>\n",
       "    <tr>\n",
       "      <th>4</th>\n",
       "      <td>5</td>\n",
       "      <td>True</td>\n",
       "      <td>A2A6MZ2QB4AE0L</td>\n",
       "      <td>449819906</td>\n",
       "      <td>Very well laid out and very easy to read.\\n\\nT...</td>\n",
       "      <td>Very comprehensive</td>\n",
       "    </tr>\n",
       "    <tr>\n",
       "      <th>5</th>\n",
       "      <td>5</td>\n",
       "      <td>True</td>\n",
       "      <td>A2OIU84NPVKIWN</td>\n",
       "      <td>449819906</td>\n",
       "      <td>Beginning her career as a freelance knitter, M...</td>\n",
       "      <td>Great Addition to Any Stitch Library</td>\n",
       "    </tr>\n",
       "    <tr>\n",
       "      <th>6</th>\n",
       "      <td>5</td>\n",
       "      <td>True</td>\n",
       "      <td>AKIV5VMRUZK1K</td>\n",
       "      <td>449819906</td>\n",
       "      <td>This is a terrific stitch handbook (and I have...</td>\n",
       "      <td>Count on Melissa</td>\n",
       "    </tr>\n",
       "    <tr>\n",
       "      <th>7</th>\n",
       "      <td>4</td>\n",
       "      <td>True</td>\n",
       "      <td>A2BQ7YGPNCQSO4</td>\n",
       "      <td>449819906</td>\n",
       "      <td>The book needs to be coil bound. The content i...</td>\n",
       "      <td>good book</td>\n",
       "    </tr>\n",
       "    <tr>\n",
       "      <th>8</th>\n",
       "      <td>5</td>\n",
       "      <td>True</td>\n",
       "      <td>A2JNO9OR8FGNR4</td>\n",
       "      <td>449819906</td>\n",
       "      <td>I really am enjoying this book! I like the siz...</td>\n",
       "      <td>Excellent!</td>\n",
       "    </tr>\n",
       "    <tr>\n",
       "      <th>9</th>\n",
       "      <td>5</td>\n",
       "      <td>True</td>\n",
       "      <td>A1IFF9F3XA9X1I</td>\n",
       "      <td>449819906</td>\n",
       "      <td>Just received this book and looked over it cov...</td>\n",
       "      <td>Great addition to my library</td>\n",
       "    </tr>\n",
       "    <tr>\n",
       "      <th>10</th>\n",
       "      <td>5</td>\n",
       "      <td>True</td>\n",
       "      <td>A3OI7AYBZ2BF1N</td>\n",
       "      <td>048625531X</td>\n",
       "      <td>Son and grandson and I do these together.  Nic...</td>\n",
       "      <td>perfect for 7 yr old</td>\n",
       "    </tr>\n",
       "    <tr>\n",
       "      <th>11</th>\n",
       "      <td>5</td>\n",
       "      <td>True</td>\n",
       "      <td>A1EWCPZ3FKLGLL</td>\n",
       "      <td>048625531X</td>\n",
       "      <td>This book is the perfect size to carry in your...</td>\n",
       "      <td>This book is the perfect size to carry in your...</td>\n",
       "    </tr>\n",
       "    <tr>\n",
       "      <th>12</th>\n",
       "      <td>5</td>\n",
       "      <td>True</td>\n",
       "      <td>A3GEAE5YCV87KR</td>\n",
       "      <td>048625531X</td>\n",
       "      <td>Great value for such a little book. I brought ...</td>\n",
       "      <td>Great value for such a little book</td>\n",
       "    </tr>\n",
       "    <tr>\n",
       "      <th>13</th>\n",
       "      <td>5</td>\n",
       "      <td>True</td>\n",
       "      <td>A304F5HPIBLUX2</td>\n",
       "      <td>048625531X</td>\n",
       "      <td>great for kids</td>\n",
       "      <td>Five Stars</td>\n",
       "    </tr>\n",
       "    <tr>\n",
       "      <th>14</th>\n",
       "      <td>5</td>\n",
       "      <td>True</td>\n",
       "      <td>A2F29ZE6OSBCUZ</td>\n",
       "      <td>048625531X</td>\n",
       "      <td>Fun and simple. Easy to carry around for a bor...</td>\n",
       "      <td>Five Stars</td>\n",
       "    </tr>\n",
       "    <tr>\n",
       "      <th>15</th>\n",
       "      <td>2</td>\n",
       "      <td>True</td>\n",
       "      <td>AC0J24YW9X2FO</td>\n",
       "      <td>486473082</td>\n",
       "      <td>Not easy to follow.  Not enough patterns and n...</td>\n",
       "      <td>Old and dated</td>\n",
       "    </tr>\n",
       "    <tr>\n",
       "      <th>16</th>\n",
       "      <td>5</td>\n",
       "      <td>True</td>\n",
       "      <td>A1FDXY51VC0UH0</td>\n",
       "      <td>486473082</td>\n",
       "      <td>I knit a great deal and saw this book in it's ...</td>\n",
       "      <td>Wonderful</td>\n",
       "    </tr>\n",
       "    <tr>\n",
       "      <th>17</th>\n",
       "      <td>4</td>\n",
       "      <td>True</td>\n",
       "      <td>A1NTCDCKM4Y92P</td>\n",
       "      <td>486473082</td>\n",
       "      <td>If I had known that this book had two differen...</td>\n",
       "      <td>Different covers same book</td>\n",
       "    </tr>\n",
       "    <tr>\n",
       "      <th>18</th>\n",
       "      <td>5</td>\n",
       "      <td>True</td>\n",
       "      <td>A3ONWA3EG24NGH</td>\n",
       "      <td>486473082</td>\n",
       "      <td>When I first saw this book years ago, I loved ...</td>\n",
       "      <td>Had been looking for this book....</td>\n",
       "    </tr>\n",
       "    <tr>\n",
       "      <th>19</th>\n",
       "      <td>5</td>\n",
       "      <td>True</td>\n",
       "      <td>ATHCXVSBRNZNW</td>\n",
       "      <td>715329278</td>\n",
       "      <td>This magazine has been on my wish for awhile a...</td>\n",
       "      <td>Beautiful designs</td>\n",
       "    </tr>\n",
       "  </tbody>\n",
       "</table>\n",
       "</div>"
      ],
      "text/plain": [
       "    overall  verified      reviewerID        asin  \\\n",
       "0         4      True   AIE8N9U317ZBM   449819906   \n",
       "1         5      True  A3ECOW0TWLH9V6   449819906   \n",
       "2         4      True  A278N8QX9TY2OS   449819906   \n",
       "3         5      True  A123W8HIK76XCN   449819906   \n",
       "4         5      True  A2A6MZ2QB4AE0L   449819906   \n",
       "5         5      True  A2OIU84NPVKIWN   449819906   \n",
       "6         5      True   AKIV5VMRUZK1K   449819906   \n",
       "7         4      True  A2BQ7YGPNCQSO4   449819906   \n",
       "8         5      True  A2JNO9OR8FGNR4   449819906   \n",
       "9         5      True  A1IFF9F3XA9X1I   449819906   \n",
       "10        5      True  A3OI7AYBZ2BF1N  048625531X   \n",
       "11        5      True  A1EWCPZ3FKLGLL  048625531X   \n",
       "12        5      True  A3GEAE5YCV87KR  048625531X   \n",
       "13        5      True  A304F5HPIBLUX2  048625531X   \n",
       "14        5      True  A2F29ZE6OSBCUZ  048625531X   \n",
       "15        2      True   AC0J24YW9X2FO   486473082   \n",
       "16        5      True  A1FDXY51VC0UH0   486473082   \n",
       "17        4      True  A1NTCDCKM4Y92P   486473082   \n",
       "18        5      True  A3ONWA3EG24NGH   486473082   \n",
       "19        5      True   ATHCXVSBRNZNW   715329278   \n",
       "\n",
       "                                           reviewText  \\\n",
       "0                 Contains some interesting stitches.   \n",
       "1   I'm a fairly experienced knitter of the one-co...   \n",
       "2   Great book but the index is terrible. Had to w...   \n",
       "3   I purchased the Kindle edition which is incred...   \n",
       "4   Very well laid out and very easy to read.\\n\\nT...   \n",
       "5   Beginning her career as a freelance knitter, M...   \n",
       "6   This is a terrific stitch handbook (and I have...   \n",
       "7   The book needs to be coil bound. The content i...   \n",
       "8   I really am enjoying this book! I like the siz...   \n",
       "9   Just received this book and looked over it cov...   \n",
       "10  Son and grandson and I do these together.  Nic...   \n",
       "11  This book is the perfect size to carry in your...   \n",
       "12  Great value for such a little book. I brought ...   \n",
       "13                                     great for kids   \n",
       "14  Fun and simple. Easy to carry around for a bor...   \n",
       "15  Not easy to follow.  Not enough patterns and n...   \n",
       "16  I knit a great deal and saw this book in it's ...   \n",
       "17  If I had known that this book had two differen...   \n",
       "18  When I first saw this book years ago, I loved ...   \n",
       "19  This magazine has been on my wish for awhile a...   \n",
       "\n",
       "                                              summary  \n",
       "0                                          Four Stars  \n",
       "1     My current favorite go-to guide for inspiration  \n",
       "2   lots of great examples, good instructions, col...  \n",
       "3               Another little gem by Melissa Leapman  \n",
       "4                                  Very comprehensive  \n",
       "5                Great Addition to Any Stitch Library  \n",
       "6                                    Count on Melissa  \n",
       "7                                           good book  \n",
       "8                                          Excellent!  \n",
       "9                        Great addition to my library  \n",
       "10                               perfect for 7 yr old  \n",
       "11  This book is the perfect size to carry in your...  \n",
       "12                 Great value for such a little book  \n",
       "13                                         Five Stars  \n",
       "14                                         Five Stars  \n",
       "15                                      Old and dated  \n",
       "16                                          Wonderful  \n",
       "17                         Different covers same book  \n",
       "18                 Had been looking for this book....  \n",
       "19                                  Beautiful designs  "
      ]
     },
     "execution_count": 2,
     "metadata": {},
     "output_type": "execute_result"
    }
   ],
   "source": [
    "# Loading data set using pandas.\n",
    "!pip install pandas\n",
    "\n",
    "import pandas as pd\n",
    "\n",
    "file= \"C:/Users/DELL/Desktop/TextBasedAnalysis/Arts_Crafts_and_sewing_5.csv\"\n",
    "df = pd.read_csv('C:/Users/DELL/Desktop/TextBasedAnalysis/Arts_Crafts_and_sewing_5.csv', encoding='latin-1')\n",
    "df.head(20)"
   ]
  },
  {
   "cell_type": "markdown",
   "id": "87337298",
   "metadata": {},
   "source": [
    "# PLOTTING v1 FIELD"
   ]
  },
  {
   "cell_type": "code",
   "execution_count": 3,
   "id": "181e1edb",
   "metadata": {},
   "outputs": [
    {
     "data": {
      "text/plain": [
       "<Axes: xlabel='overall'>"
      ]
     },
     "execution_count": 3,
     "metadata": {},
     "output_type": "execute_result"
    },
    {
     "data": {
      "image/png": "[encoded data removed]",
      "text/plain": [
       "<Figure size 640x480 with 1 Axes>"
      ]
     },
     "metadata": {},
     "output_type": "display_data"
    }
   ],
   "source": [
    "df['overall'].value_counts().sort_index().plot(kind='bar')"
   ]
  },
  {
   "cell_type": "markdown",
   "id": "28920806",
   "metadata": {},
   "source": [
    "# TEXT CLASIFICATION"
   ]
  },
  {
   "cell_type": "markdown",
   "id": "3473a008",
   "metadata": {},
   "source": [
    "# FUNCTION TO REMOVE ODD WORDS"
   ]
  },
  {
   "cell_type": "code",
   "execution_count": 5,
   "id": "4655c73b",
   "metadata": {},
   "outputs": [
    {
     "name": "stdout",
     "output_type": "stream",
     "text": [
      "Hello world ! Link Extra spaces here.\n"
     ]
    }
   ],
   "source": [
    "import html\n",
    "import re\n",
    "\n",
    "def clean(text):\n",
    "    # Convert HTML escapes like & to characters.\n",
    "    text = html.unescape(text) \n",
    "    # Remove HTML tags.\n",
    "    text = re.sub(r'<[^<>]*>', ' ', text)\n",
    "    # Remove Markdown URLs like [Some text](https://....).\n",
    "    text = re.sub(r'\\[([^\\[\\]]*)\\]\\([^\\(\\)]*\\)', r'\\1', text)\n",
    "    # Remove text or code in brackets like [0].\n",
    "    text = re.sub(r'\\[[^\\[\\]]*\\]', ' ', text)\n",
    "    # Remove standalone sequences of specials.\n",
    "    text = re.sub(r'(?:^|\\s)[<>{}\\[\\]+|\\\\:-]{1,}(?:\\s|$)', ' ', text)\n",
    "    # Remove standalone sequences of hyphens like --- or ==.\n",
    "    text = re.sub(r'(?:^|\\s)[\\-=\\+]{2,}(?:\\s|$)', ' ', text)\n",
    "    # Remove sequences of white spaces.\n",
    "    text = re.sub(r'\\s+', ' ', text)\n",
    "    return text.strip()\n",
    "\n",
    "# Example usage:\n",
    "input_text = \"<p>Hello <b>world</b>!</p> [Link](https://example.com) [0] --- === \\n\\nExtra    spaces  here.\"\n",
    "output_text = clean(input_text)\n",
    "print(output_text)"
   ]
  },
  {
   "cell_type": "markdown",
   "id": "3ec591fa",
   "metadata": {},
   "source": [
    "# DATA CLEANING"
   ]
  },
  {
   "cell_type": "code",
   "execution_count": 7,
   "id": "30948a39",
   "metadata": {},
   "outputs": [
    {
     "data": {
      "text/html": [
       "<div>\n",
       "<style scoped>\n",
       "    .dataframe tbody tr th:only-of-type {\n",
       "        vertical-align: middle;\n",
       "    }\n",
       "\n",
       "    .dataframe tbody tr th {\n",
       "        vertical-align: top;\n",
       "    }\n",
       "\n",
       "    .dataframe thead th {\n",
       "        text-align: right;\n",
       "    }\n",
       "</style>\n",
       "<table border=\"1\" class=\"dataframe\">\n",
       "  <thead>\n",
       "    <tr style=\"text-align: right;\">\n",
       "      <th></th>\n",
       "      <th>overall</th>\n",
       "      <th>verified</th>\n",
       "      <th>reviewerID</th>\n",
       "      <th>asin</th>\n",
       "      <th>reviewText</th>\n",
       "      <th>summary</th>\n",
       "    </tr>\n",
       "  </thead>\n",
       "  <tbody>\n",
       "    <tr>\n",
       "      <th>208448</th>\n",
       "      <td>5</td>\n",
       "      <td>True</td>\n",
       "      <td>APNRXQZNOE</td>\n",
       "      <td>B004BP2HJW</td>\n",
       "      <td>love them</td>\n",
       "      <td>Five Stars</td>\n",
       "    </tr>\n",
       "    <tr>\n",
       "      <th>246101</th>\n",
       "      <td>5</td>\n",
       "      <td>True</td>\n",
       "      <td>AGOMEJQZTRU</td>\n",
       "      <td>B006FZ3FJC</td>\n",
       "      <td>This was better than I expected. Too cute for ...</td>\n",
       "      <td>Perfect for my project.</td>\n",
       "    </tr>\n",
       "  </tbody>\n",
       "</table>\n",
       "</div>"
      ],
      "text/plain": [
       "        overall  verified   reviewerID        asin  \\\n",
       "208448        5      True   APNRXQZNOE  B004BP2HJW   \n",
       "246101        5      True  AGOMEJQZTRU  B006FZ3FJC   \n",
       "\n",
       "                                               reviewText  \\\n",
       "208448                                          love them   \n",
       "246101  This was better than I expected. Too cute for ...   \n",
       "\n",
       "                        summary  \n",
       "208448               Five Stars  \n",
       "246101  Perfect for my project.  "
      ]
     },
     "execution_count": 7,
     "metadata": {},
     "output_type": "execute_result"
    }
   ],
   "source": [
    "import html\n",
    "import re\n",
    "\n",
    "def clean(text):\n",
    "    # convert html escapes like & to characters.\n",
    "    text = html.unescape(text) \n",
    "    # tags like \n",
    "    text = re.sub(r'<[^<>]*>', ' ', text)\n",
    "    # markdown URLs like [Some text](https://....)\n",
    "    text = re.sub(r'\\[([^\\[\\]]*)\\]\\([^\\(\\)]*\\)', r'\\1', text)\n",
    "    # text or code in brackets like [0]\n",
    "    text = re.sub(r'\\[[^\\[\\]]*\\]', ' ', text)\n",
    "    # standalone sequences of specials, matches  but not #cool\n",
    "    text = re.sub(r'(?:^|\\s)[<>{}\\[\\]+|\\\\:-]{1,}(?:\\s|$)', ' ', text)\n",
    "    # standalone sequences of hyphens like --- or ==\n",
    "    text = re.sub(r'(?:^|\\s)[\\-=\\+]{2,}(?:\\s|$)', ' ', text)\n",
    "    # sequences of white spaces\n",
    "    text = re.sub(r'\\s+', ' ', text)\n",
    "    return text.strip()\n",
    "\n",
    "\n",
    "def remove_odd_words(text):\n",
    "    return re.sub(r'[^a-zA-Z\\s]', '', text)\n",
    "    \n",
    "df['reviewerID'] = df['reviewerID'].apply(remove_odd_words)\n",
    "\n",
    "# Displaying a random sample of 2 rows\n",
    "df.sample(2)"
   ]
  },
  {
   "cell_type": "markdown",
   "id": "fce215ef",
   "metadata": {},
   "source": [
    "# TRAIN-TEST SPLIT"
   ]
  },
  {
   "cell_type": "code",
   "execution_count": 8,
   "id": "fff8cddd",
   "metadata": {},
   "outputs": [
    {
     "name": "stdout",
     "output_type": "stream",
     "text": [
      "Size of Training Features: (395588,)\n",
      "Size of Testing Features: (98897,)\n",
      "Size of Training Labels: (395588,)\n",
      "Size of Testing Labels: (98897,)\n"
     ]
    }
   ],
   "source": [
    "from sklearn.model_selection import train_test_split\n",
    "\n",
    "# Assuming df is your DataFrame containing the dataset\n",
    "X = df['reviewerID']  # Features\n",
    "y = df['overall']  # Target variable\n",
    "\n",
    "# Split the dataset into training and testing sets\n",
    "X_train, X_test, y_train, y_test = train_test_split(X, y, test_size=0.2, random_state=42)\n",
    "\n",
    "# Print the sizes of the resulting sets\n",
    "print(\"Size of Training Features:\", X_train.shape)\n",
    "print(\"Size of Testing Features:\", X_test.shape)\n",
    "print(\"Size of Training Labels:\", y_train.shape)\n",
    "print(\"Size of Testing Labels:\", y_test.shape)"
   ]
  },
  {
   "cell_type": "markdown",
   "id": "c847bce5",
   "metadata": {},
   "source": [
    "# TRAINING THE MODEL\n",
    "\n",
    "\n",
    "CONVERT X_TRAIN TO NUMBERS"
   ]
  },
  {
   "cell_type": "code",
   "execution_count": 9,
   "id": "f6e7193c",
   "metadata": {},
   "outputs": [
    {
     "name": "stdout",
     "output_type": "stream",
     "text": [
      "Shape of TF-IDF matrix for training data: (395588, 48826)\n",
      "Shape of TF-IDF matrix for test data: (98897, 48826)\n"
     ]
    }
   ],
   "source": [
    "from sklearn.feature_extraction.text import TfidfVectorizer\n",
    "from sklearn.svm import SVC\n",
    "\n",
    "\n",
    "# Initializing a TfidfVectorizer object with specified parameters\n",
    "tfidf = TfidfVectorizer(max_df=10, ngram_range=(1, 2), stop_words=\"english\")\n",
    "\n",
    "# Transforming the training data (X_train) into a TF-IDF representation\n",
    "X_train_tf = tfidf.fit_transform(X_train)\n",
    "\n",
    "# Transforming the test data (X_test) into a TF-IDF representation using the same vocabulary as the training data\n",
    "X_test_tf = tfidf.transform(X_test)\n",
    "\n",
    "print(\"Shape of TF-IDF matrix for training data:\", X_train_tf.shape)\n",
    "print(\"Shape of TF-IDF matrix for test data:\", X_test_tf.shape)\n"
   ]
  },
  {
   "cell_type": "markdown",
   "id": "ec7507be",
   "metadata": {},
   "source": [
    "# BUILDING A MODEL"
   ]
  },
  {
   "cell_type": "code",
   "execution_count": 10,
   "id": "d875a8bd",
   "metadata": {},
   "outputs": [
    {
     "data": {
      "text/html": [
       "<style>#sk-container-id-1 {color: black;}#sk-container-id-1 pre{padding: 0;}#sk-container-id-1 div.sk-toggleable {background-color: white;}#sk-container-id-1 label.sk-toggleable__label {cursor: pointer;display: block;width: 100%;margin-bottom: 0;padding: 0.3em;box-sizing: border-box;text-align: center;}#sk-container-id-1 label.sk-toggleable__label-arrow:before {content: \"▸\";float: left;margin-right: 0.25em;color: #696969;}#sk-container-id-1 label.sk-toggleable__label-arrow:hover:before {color: black;}#sk-container-id-1 div.sk-estimator:hover label.sk-toggleable__label-arrow:before {color: black;}#sk-container-id-1 div.sk-toggleable__content {max-height: 0;max-width: 0;overflow: hidden;text-align: left;background-color: #f0f8ff;}#sk-container-id-1 div.sk-toggleable__content pre {margin: 0.2em;color: black;border-radius: 0.25em;background-color: #f0f8ff;}#sk-container-id-1 input.sk-toggleable__control:checked~div.sk-toggleable__content {max-height: 200px;max-width: 100%;overflow: auto;}#sk-container-id-1 input.sk-toggleable__control:checked~label.sk-toggleable__label-arrow:before {content: \"▾\";}#sk-container-id-1 div.sk-estimator input.sk-toggleable__control:checked~label.sk-toggleable__label {background-color: #d4ebff;}#sk-container-id-1 div.sk-label input.sk-toggleable__control:checked~label.sk-toggleable__label {background-color: #d4ebff;}#sk-container-id-1 input.sk-hidden--visually {border: 0;clip: rect(1px 1px 1px 1px);clip: rect(1px, 1px, 1px, 1px);height: 1px;margin: -1px;overflow: hidden;padding: 0;position: absolute;width: 1px;}#sk-container-id-1 div.sk-estimator {font-family: monospace;background-color: #f0f8ff;border: 1px dotted black;border-radius: 0.25em;box-sizing: border-box;margin-bottom: 0.5em;}#sk-container-id-1 div.sk-estimator:hover {background-color: #d4ebff;}#sk-container-id-1 div.sk-parallel-item::after {content: \"\";width: 100%;border-bottom: 1px solid gray;flex-grow: 1;}#sk-container-id-1 div.sk-label:hover label.sk-toggleable__label {background-color: #d4ebff;}#sk-container-id-1 div.sk-serial::before {content: \"\";position: absolute;border-left: 1px solid gray;box-sizing: border-box;top: 0;bottom: 0;left: 50%;z-index: 0;}#sk-container-id-1 div.sk-serial {display: flex;flex-direction: column;align-items: center;background-color: white;padding-right: 0.2em;padding-left: 0.2em;position: relative;}#sk-container-id-1 div.sk-item {position: relative;z-index: 1;}#sk-container-id-1 div.sk-parallel {display: flex;align-items: stretch;justify-content: center;background-color: white;position: relative;}#sk-container-id-1 div.sk-item::before, #sk-container-id-1 div.sk-parallel-item::before {content: \"\";position: absolute;border-left: 1px solid gray;box-sizing: border-box;top: 0;bottom: 0;left: 50%;z-index: -1;}#sk-container-id-1 div.sk-parallel-item {display: flex;flex-direction: column;z-index: 1;position: relative;background-color: white;}#sk-container-id-1 div.sk-parallel-item:first-child::after {align-self: flex-end;width: 50%;}#sk-container-id-1 div.sk-parallel-item:last-child::after {align-self: flex-start;width: 50%;}#sk-container-id-1 div.sk-parallel-item:only-child::after {width: 0;}#sk-container-id-1 div.sk-dashed-wrapped {border: 1px dashed gray;margin: 0 0.4em 0.5em 0.4em;box-sizing: border-box;padding-bottom: 0.4em;background-color: white;}#sk-container-id-1 div.sk-label label {font-family: monospace;font-weight: bold;display: inline-block;line-height: 1.2em;}#sk-container-id-1 div.sk-label-container {text-align: center;}#sk-container-id-1 div.sk-container {/* jupyter's `normalize.less` sets `[hidden] { display: none; }` but bootstrap.min.css set `[hidden] { display: none !important; }` so we also need the `!important` here to be able to override the default hidden behavior on the sphinx rendered scikit-learn.org. See: https://github.com/scikit-learn/scikit-learn/issues/21755 */display: inline-block !important;position: relative;}#sk-container-id-1 div.sk-text-repr-fallback {display: none;}</style><div id=\"sk-container-id-1\" class=\"sk-top-container\"><div class=\"sk-text-repr-fallback\"><pre>LinearSVC(dual=True, random_state=0, tol=1e-05)</pre><b>In a Jupyter environment, please rerun this cell to show the HTML representation or trust the notebook. <br />On GitHub, the HTML representation is unable to render, please try loading this page with nbviewer.org.</b></div><div class=\"sk-container\" hidden><div class=\"sk-item\"><div class=\"sk-estimator sk-toggleable\"><input class=\"sk-toggleable__control sk-hidden--visually\" id=\"sk-estimator-id-1\" type=\"checkbox\" checked><label for=\"sk-estimator-id-1\" class=\"sk-toggleable__label sk-toggleable__label-arrow\">LinearSVC</label><div class=\"sk-toggleable__content\"><pre>LinearSVC(dual=True, random_state=0, tol=1e-05)</pre></div></div></div></div></div>"
      ],
      "text/plain": [
       "LinearSVC(dual=True, random_state=0, tol=1e-05)"
      ]
     },
     "execution_count": 10,
     "metadata": {},
     "output_type": "execute_result"
    }
   ],
   "source": [
    "# Importing the LinearSVC class from the sklearn.svm module\n",
    "from sklearn.svm import LinearSVC\n",
    "\n",
    "# Initializing a LinearSVC model object with specified parameters\n",
    "# random_state=0 ensures reproducibility of results\n",
    "# tol=1e-5 specifies the tolerance for stopping criteria\n",
    "model1 = LinearSVC(random_state=0, tol=1e-5, dual=True)\n",
    "\n",
    "# Training the LinearSVC model on the TF-IDF transformed training data and corresponding target labels\n",
    "model1.fit(X_train_tf, y_train)"
   ]
  },
  {
   "cell_type": "markdown",
   "id": "c7ee5135",
   "metadata": {},
   "source": [
    "# TESTING THE MODEL\n",
    "\n",
    "\n",
    "ACCURACY OF THE MODEL"
   ]
  },
  {
   "cell_type": "code",
   "execution_count": 11,
   "id": "3d7b2e33",
   "metadata": {},
   "outputs": [
    {
     "name": "stdout",
     "output_type": "stream",
     "text": [
      "Accuracy Score - 0.7689110893151461\n"
     ]
    }
   ],
   "source": [
    "# Importing the accuracy_score function from sklearn.metrics module\n",
    "from sklearn.metrics import accuracy_score\n",
    "\n",
    "# Making predictions on the test data using the trained model\n",
    "Y_pred = model1.predict(X_test_tf)\n",
    "\n",
    "# Calculating the accuracy score by comparing the predicted labels (Y_pred) with the actual labels (Y_test)\n",
    "accuracy = accuracy_score(y_test, Y_pred)\n",
    "\n",
    "# Printing the accuracy score\n",
    "print('Accuracy Score -', accuracy)"
   ]
  },
  {
   "cell_type": "markdown",
   "id": "6179bf1c",
   "metadata": {},
   "source": [
    "# RUN THE DUMMY"
   ]
  },
  {
   "cell_type": "code",
   "execution_count": 12,
   "id": "c114512c",
   "metadata": {},
   "outputs": [
    {
     "name": "stdout",
     "output_type": "stream",
     "text": [
      "Accuracy Score - 0.7637440973942586\n"
     ]
    }
   ],
   "source": [
    "# Importing the DummyClassifier class from sklearn.dummy module\n",
    "from sklearn.dummy import DummyClassifier\n",
    "\n",
    "# Creating a DummyClassifier object with 'most_frequent' strategy\n",
    "# 'most_frequent' strategy always predicts the most frequent class in the training data\n",
    "# random_state=42 ensures reproducibility of results\n",
    "clf = DummyClassifier(strategy='most_frequent', random_state=42)\n",
    "\n",
    "# Training the DummyClassifier on the training data\n",
    "clf.fit(X_train, y_train)\n",
    "\n",
    "# Making predictions on the test data using the trained DummyClassifier\n",
    "Y_pred_baseline = clf.predict(X_test)\n",
    "\n",
    "# Calculating the accuracy score by comparing the predicted labels (Y_pred_baseline) with the actual labels (Y_test)\n",
    "baseline_accuracy = accuracy_score(y_test, Y_pred_baseline)\n",
    "\n",
    "# Printing the accuracy score\n",
    "print('Accuracy Score -', baseline_accuracy)"
   ]
  },
  {
   "cell_type": "markdown",
   "id": "b7998548",
   "metadata": {},
   "source": [
    "# CONFUSION MATRIX"
   ]
  },
  {
   "cell_type": "code",
   "execution_count": 13,
   "id": "c6bf2599",
   "metadata": {},
   "outputs": [
    {
     "name": "stdout",
     "output_type": "stream",
     "text": [
      "Confusion Matrix:\n",
      "[[  318    58    99   187  2186]\n",
      " [   57   187   102   223  1999]\n",
      " [   85    58   541   553  4554]\n",
      " [  102    84   283  2556  9133]\n",
      " [  339   177   599  1976 72441]]\n"
     ]
    }
   ],
   "source": [
    "# Importing the confusion_matrix function from sklearn.metrics module\n",
    "from sklearn.metrics import confusion_matrix\n",
    "\n",
    "# Making predictions on the test data using the trained model\n",
    "Y_pred = model1.predict(X_test_tf)\n",
    "\n",
    "# Calculating the confusion matrix by comparing the predicted labels (Y_pred) with the actual labels (Y_test)\n",
    "# The confusion matrix provides a summary of predictions made by the model\n",
    "# Rows correspond to actual classes, while columns correspond to predicted classes\n",
    "# Each cell (i, j) in the matrix represents the number of instances of class i predicted as class j\n",
    "# The diagonal elements (top-left to bottom-right) represent correctly classified instances\n",
    "# Off-diagonal elements represent misclassifications\n",
    "conf_matrix = confusion_matrix(y_test, Y_pred)\n",
    "\n",
    "# Printing the confusion matrix\n",
    "print('Confusion Matrix:')\n",
    "print(conf_matrix)"
   ]
  },
  {
   "cell_type": "markdown",
   "id": "75a99667",
   "metadata": {},
   "source": [
    "# PLOTTING CONFUSION MATRIX"
   ]
  },
  {
   "cell_type": "code",
   "execution_count": 14,
   "id": "be5aca90",
   "metadata": {},
   "outputs": [
    {
     "data": {
      "image/png": "[encoded data removed]",
      "text/plain": [
       "<Figure size 800x600 with 2 Axes>"
      ]
     },
     "metadata": {},
     "output_type": "display_data"
    }
   ],
   "source": [
    "from sklearn.metrics import confusion_matrix, ConfusionMatrixDisplay\n",
    "import matplotlib.pyplot as plt\n",
    "import seaborn as sns\n",
    "\n",
    "# Calculating the confusion matrix\n",
    "conf_matrix = confusion_matrix(y_test, Y_pred)\n",
    "\n",
    "# Creating a ConfusionMatrixDisplay object with the confusion matrix\n",
    "cm_display = ConfusionMatrixDisplay(confusion_matrix=conf_matrix, display_labels=model1.classes_)\n",
    "\n",
    "# Plotting the confusion matrix\n",
    "conf_matrix = confusion_matrix(y_test, Y_pred)\n",
    "plt.figure(figsize=(8, 6))\n",
    "sns.heatmap(conf_matrix, annot=True, fmt='d', cmap='Blues', xticklabels=['ham', 'spam'], yticklabels=['ham', 'spam'])\n",
    "plt.xlabel('Predicted')\n",
    "plt.ylabel('Actual')\n",
    "plt.title('Confusion Matrix')\n",
    "plt.show()"
   ]
  },
  {
   "cell_type": "markdown",
   "id": "45e3cb40",
   "metadata": {},
   "source": [
    "# CLASIFICATION REPORT"
   ]
  },
  {
   "cell_type": "code",
   "execution_count": 15,
   "id": "77c6b139",
   "metadata": {},
   "outputs": [
    {
     "name": "stdout",
     "output_type": "stream",
     "text": [
      "Classification Report:\n",
      "               precision    recall  f1-score   support\n",
      "\n",
      "           1       0.35      0.11      0.17      2848\n",
      "           2       0.33      0.07      0.12      2568\n",
      "           3       0.33      0.09      0.15      5791\n",
      "           4       0.47      0.21      0.29     12158\n",
      "           5       0.80      0.96      0.87     75532\n",
      "\n",
      "    accuracy                           0.77     98897\n",
      "   macro avg       0.46      0.29      0.32     98897\n",
      "weighted avg       0.71      0.77      0.72     98897\n",
      "\n"
     ]
    }
   ],
   "source": [
    "from sklearn.metrics import classification_report\n",
    "\n",
    "# Print classification report with zero_division='warn'\n",
    "print(\"Classification Report:\\n\", classification_report(y_test, Y_pred))"
   ]
  },
  {
   "cell_type": "markdown",
   "id": "ed5e071b",
   "metadata": {},
   "source": [
    "# DOWNSAMPLING"
   ]
  },
  {
   "cell_type": "code",
   "execution_count": 17,
   "id": "89cf69c8",
   "metadata": {},
   "outputs": [
    {
     "name": "stdout",
     "output_type": "stream",
     "text": [
      "Empty DataFrame\n",
      "Columns: [overall, verified, reviewerID, asin, reviewText, summary]\n",
      "Index: []\n"
     ]
    }
   ],
   "source": [
    "import pandas as pd\n",
    "\n",
    "# Downsampling\n",
    "df_downsampled = pd.concat([df[df['overall'] == 'ham'].sample(n=len(df[df['overall'] == 'spam']), random_state=42), df[df['overall'] == 'spam']])\n",
    "\n",
    "# Output\n",
    "print(df_downsampled)"
   ]
  },
  {
   "cell_type": "code",
   "execution_count": 19,
   "id": "67ce6daf",
   "metadata": {},
   "outputs": [
    {
     "name": "stdout",
     "output_type": "stream",
     "text": [
      "Accuracy: 0.7781125817770003\n",
      "Classification Report:\n",
      "               precision    recall  f1-score   support\n",
      "\n",
      "           1       0.80      0.03      0.06      2848\n",
      "           2       0.76      0.01      0.01      2568\n",
      "           3       0.51      0.05      0.09      5791\n",
      "           4       0.52      0.20      0.28     12158\n",
      "           5       0.79      0.98      0.88     75532\n",
      "\n",
      "    accuracy                           0.78     98897\n",
      "   macro avg       0.68      0.25      0.26     98897\n",
      "weighted avg       0.74      0.78      0.71     98897\n",
      "\n",
      "Confusion Matrix:\n",
      " [[   88     2    35   180  2543]\n",
      " [    6    19    44   216  2283]\n",
      " [    2     2   269   585  4933]\n",
      " [    6     2    68  2381  9701]\n",
      " [    8     0   109  1219 74196]]\n"
     ]
    },
    {
     "data": {
      "image/png": "[encoded data removed]",
      "text/plain": [
       "<Figure size 800x600 with 2 Axes>"
      ]
     },
     "metadata": {},
     "output_type": "display_data"
    },
    {
     "name": "stderr",
     "output_type": "stream",
     "text": [
      "C:\\Users\\DELL\\anaconda3\\Lib\\site-packages\\sklearn\\metrics\\_ranking.py:979: UserWarning: No positive class found in y_true, recall is set to one for all thresholds.\n",
      "  warnings.warn(\n"
     ]
    },
    {
     "data": {
      "image/png": "[encoded data removed]",
      "text/plain": [
       "<Figure size 800x600 with 1 Axes>"
      ]
     },
     "metadata": {},
     "output_type": "display_data"
    }
   ],
   "source": [
    "from sklearn.feature_extraction.text import TfidfVectorizer\n",
    "from sklearn.naive_bayes import MultinomialNB\n",
    "from sklearn.pipeline import Pipeline\n",
    "from sklearn.model_selection import train_test_split\n",
    "from sklearn.metrics import accuracy_score, classification_report, confusion_matrix\n",
    "import seaborn as sns\n",
    "import matplotlib.pyplot as plt\n",
    "\n",
    "# Splitting the data into training and testing sets\n",
    "X_train, X_test, y_train, y_test = train_test_split(df['reviewerID'], df['overall'], test_size=0.2, random_state=42)\n",
    "\n",
    "# Creating a pipeline\n",
    "pipeline = Pipeline([\n",
    "    ('tfidf', TfidfVectorizer()),\n",
    "    ('classifier', MultinomialNB())\n",
    "])\n",
    "\n",
    "# Training the model\n",
    "pipeline.fit(X_train, y_train)\n",
    "\n",
    "# Predicting on the test set\n",
    "y_pred = pipeline.predict(X_test)\n",
    "\n",
    "# Model evaluation\n",
    "accuracy = accuracy_score(y_test, y_pred)\n",
    "print(\"Accuracy:\", accuracy)\n",
    "print(\"Classification Report:\\n\", classification_report(y_test, y_pred))\n",
    "conf_matrix = confusion_matrix(y_test, y_pred)\n",
    "print(\"Confusion Matrix:\\n\", conf_matrix)\n",
    "\n",
    "# Plotting confusion matrix\n",
    "plt.figure(figsize=(8, 6))\n",
    "sns.heatmap(conf_matrix, annot=True, fmt=\"d\", cmap=\"Blues\", xticklabels=['ham', 'spam'], yticklabels=['ham', 'spam'])\n",
    "plt.xlabel('Predicted')\n",
    "plt.ylabel('Actual')\n",
    "plt.title('Confusion Matrix')\n",
    "plt.show()\n",
    "\n",
    "from sklearn.metrics import precision_recall_curve, auc\n",
    "import matplotlib.pyplot as plt\n",
    "\n",
    "# Convert labels to binary format\n",
    "y_test_binary = (y_test == 'spam').astype(int)\n",
    "\n",
    "# Calculate precision and recall\n",
    "precision, recall, _ = precision_recall_curve(y_test_binary, pipeline.predict_proba(X_test)[:, 1])\n",
    "\n",
    "# Calculate Area Under Curve (AUC) for precision-recall curve\n",
    "auc_score = auc(recall, precision)\n",
    "\n",
    "# Plot precision-recall curve\n",
    "plt.figure(figsize=(8, 6))\n",
    "plt.plot(recall, precision, label=f'Precision-Recall Curve (AUC = {auc_score:.2f})', color='b')\n",
    "plt.xlabel('Recall')\n",
    "plt.ylabel('Precision')\n",
    "plt.title('Precision-Recall Curve')\n",
    "plt.legend(loc='lower left')\n",
    "plt.grid(True)\n",
    "plt.show()"
   ]
  }
 ],
 "metadata": {
  "kernelspec": {
   "display_name": "Python 3 (ipykernel)",
   "language": "python",
   "name": "python3"
  },
  "language_info": {
   "codemirror_mode": {
    "name": "ipython",
    "version": 3
   },
   "file_extension": ".py",
   "mimetype": "text/x-python",
   "name": "python",
   "nbconvert_exporter": "python",
   "pygments_lexer": "ipython3",
   "version": "3.11.5"
  }
 },
 "nbformat": 4,
 "nbformat_minor": 5
}
